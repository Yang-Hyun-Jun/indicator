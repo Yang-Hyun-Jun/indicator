{
 "cells": [
  {
   "cell_type": "code",
   "execution_count": 1,
   "metadata": {},
   "outputs": [
    {
     "name": "stdout",
     "output_type": "stream",
     "text": [
      "/home/hyunjun/workspace/technical_indicator\n"
     ]
    }
   ],
   "source": [
    "cd .."
   ]
  },
  {
   "cell_type": "code",
   "execution_count": 2,
   "metadata": {},
   "outputs": [],
   "source": [
    "import talib as ta\n",
    "import pandas as pd\n",
    "\n",
    "from coinmarketcap_dataloader import CoinMarketCap\n",
    "from coinmarketcap_dataloader import CMC_API_KEY"
   ]
  },
  {
   "attachments": {},
   "cell_type": "markdown",
   "metadata": {},
   "source": [
    "### Indicator Module\n",
    "\n",
    "- for loop을 계속 돌리면 api error가 발생해서 time sleep을 넣음 <br>\n",
    "- 전일까지의 historical data 일부는 멤버변수에 할당해놓고 사용하는 형태로 구현 <br>\n",
    "- 각 지표의 기간별 값을 ticker key를 갖는 dict으로 리턴: value_dict <br>\n",
    "- 각 지표의 기간별 스코어를 ticker key를 갖는 dict으로 리턴: score_dict <br> "
   ]
  },
  {
   "cell_type": "code",
   "execution_count": 242,
   "metadata": {},
   "outputs": [],
   "source": [
    "import time \n",
    "import numpy as np\n",
    "import talib as ta\n",
    "import multiprocessing\n",
    "\n",
    "from tqdm import tqdm\n",
    "from typing import Tuple\n",
    "from datetime import datetime\n",
    "from datetime import timedelta\n",
    "\n",
    "\n",
    "class Indicator(CoinMarketCap):\n",
    "    PERIODS = [\n",
    "        7, 28, 91]\n",
    "\n",
    "    SCORE_NAMES = [\n",
    "        '7_period_score', \n",
    "        '28_period_score', \n",
    "        '91_period_score', \n",
    "        'mean_score'\n",
    "        ]\n",
    "\n",
    "    INDICATOR_NAMES = [\n",
    "        'RSI', 'MACD', \n",
    "        'BBANDS', 'STOCH', 'OBV']\n",
    "\n",
    "\n",
    "    def __init__(self, API_KEY):\n",
    "        super().__init__(API_KEY)\n",
    "\n",
    "        self.tickers:list = None\n",
    "        self.historical_data_dict:dict = {}\n",
    "        self.now_data_dict:dict = {}\n",
    "\n",
    "        self.update_tickers()\n",
    "\n",
    "    def get_total_score(self, tickers:list) -> Tuple[dict, dict]:\n",
    "        \"\"\"\n",
    "        입력 ticker들에 대한 total score list를 리턴\n",
    "\n",
    "        [value_dict]\n",
    "        {'BTC': {'RSI': [53., 65., 62.],\n",
    "                'MACD': [1317., 3107., 3222.],\n",
    "                'BBANDS': [22., 88., 95.],\n",
    "                'STOCH': [-2., 1., 1.],\n",
    "                'OBV': [71681935600., 71681935600., 71681935600.]},\n",
    "\n",
    "        'USDT': {'RSI': [51., 50., 50.],\n",
    "                'MACD': [-5.6, 1.5, -4.],\n",
    "                'BBANDS': [58., 53., 49.],\n",
    "                'STOCH': [0., 0., 0.],\n",
    "                'OBV': [-610460727736., -610460727736., -610460727736.]},\n",
    "\n",
    "        'ETH': {'RSI': [50., 60., 57.],\n",
    "                'MACD': [61., 138., 85.3873846637475],\n",
    "                'BBANDS': [23., 85., 91.],\n",
    "                'STOCH': [-1., 0., 1.],\n",
    "                'OBV': [102378389016.81, 102378389016.81, 102378389016.81]}}\n",
    "        \n",
    "\n",
    "        [score_dict]\n",
    "        {'BTC': {'7_period_score': 1.0,\n",
    "                '28_period_score': 4.0,\n",
    "                '91_period_score': 4.0,\n",
    "                'mean_score': 3.0},\n",
    "\n",
    "        'USDT': {'7_period_score': -2.0,\n",
    "                '28_period_score': 0.0,\n",
    "                '91_period_score': -2.0,\n",
    "                'mean_score': -1.333},\n",
    "\n",
    "        'ETH': {'7_period_score': 1.0,\n",
    "                '28_period_score': 3.0,\n",
    "                '91_period_score': 4.0,\n",
    "                'mean_score': 2.667}}\n",
    "        \"\"\"\n",
    "\n",
    "    \n",
    "        tickers = set(tickers).intersection(\n",
    "            set(self.historical_data_dict.keys())\n",
    "        )\n",
    "\n",
    "        scoring_func = [\n",
    "            self.get_RSI_score,\n",
    "            self.get_MACD_score,\n",
    "            self.get_STOCH_score,\n",
    "            self.get_BBANDS_score,\n",
    "            self.get_OBV_score,\n",
    "        ]\n",
    "\n",
    "        # realtime dictionary update\n",
    "        self._get_price_to_now(tickers, types=['open', 'high', 'low', 'close', 'volume'])\n",
    "\n",
    "        # 모든 ticker의 지표별, 기간별 indicator 값에 대한 어레이\n",
    "        value_array = [self.get_ALL(ticker) for ticker in tqdm(tickers)]\n",
    "\n",
    "        # ticker : {indicator: [values1, values2, ...]}\n",
    "        value_dict = {ticker: {name:value for name, value in zip(self.INDICATOR_NAMES, values)} \\\n",
    "            for ticker, values in zip(tickers, value_array)}\n",
    "\n",
    "        # 모든 ticker의 지표별, 기간별 score 값에 대한 어레이\n",
    "        score_array = np.array([ [func(values) for func, values in zip(scoring_func, value_dict[ticker].values())] \\\n",
    "            for ticker in tickers ])\n",
    "\n",
    "        # 모든 지표에 대해서 합하여 기간별 score 산출\n",
    "        score_array_sum = np.sum(score_array, axis=1)\n",
    "        # 기간별 score와 기간별 score의 평균을 묶어서 최종 score 배열로 \n",
    "        score_array_total = np.concatenate([score_array_sum, np.mean(score_array_sum, axis=-1)[:,np.newaxis]], axis=1)\n",
    "        score_array_total = np.round(score_array_total, decimals=3)\n",
    "\n",
    "        # ticker: {period: score}\n",
    "        score_dict = {ticker: {name:score for name, score in zip(self.SCORE_NAMES, score_list)} \\\n",
    "            for ticker, score_list in zip(tickers, score_array_total)}\n",
    "    \n",
    "        return value_dict, score_dict\n",
    "\n",
    "\n",
    "    def get_ALL(self, ticker:str) -> list:\n",
    "        \"\"\"\n",
    "        모든 지표값을 리턴\n",
    "        \"\"\"\n",
    "\n",
    "        # 사용할 지표 계산 메서드\n",
    "        all_indicators = [self.get_RSI, \n",
    "                          self.get_MACD, \n",
    "                          self.get_BBANDS, \n",
    "                          self.get_STOCH, \n",
    "                          self.get_OBV]\n",
    "        \n",
    "        # hitorcial_df, realtime_df update \n",
    "        ohlcv = self.now_data_dict[ticker]\n",
    "        return [func(ohlcv) for func in all_indicators]\n",
    "\n",
    "\n",
    "    def get_RSI(self, ohlcv:pd.DataFrame) -> list:\n",
    "        \"\"\"\n",
    "        Period별 RSI\n",
    "        \"\"\"\n",
    "        return [ta.RSI(ohlcv['close'].to_numpy(), n)[-1] for n in self.PERIODS]\n",
    "\n",
    "    \n",
    "    def get_MACD(self, ohlcv:pd.DataFrame) -> list:\n",
    "        \"\"\"\n",
    "        Period별 MACD \n",
    "        \"\"\"\n",
    "        return [ta.MACD(ohlcv['close'].to_numpy(), fastperiod=n, slowperiod=int((26/12)*n), signalperiod=int((9/12)*n))[0][-1] for n in self.PERIODS]\n",
    "\n",
    "\n",
    "    def get_BBANDS(self, ohlcv:pd.DataFrame) -> list:\n",
    "        \"\"\"\n",
    "        Period별 BBANDS \n",
    "        \"\"\"\n",
    "        return [(ohlcv['close'][-1] - ta.SMA(ohlcv['close'].to_numpy(), timeperiod=n)[-1]) / \\\n",
    "         (ta.STDDEV(ohlcv['close'].to_numpy(), timeperiod=n)[-1] + 1e-5) for n in self.PERIODS]\n",
    "\n",
    "    \n",
    "    def get_STOCH(self, ohlcv:pd.DataFrame) -> list:\n",
    "        \"\"\"\n",
    "        Period별 STOCH\n",
    "        \"\"\"\n",
    "        return [ta.STOCH(ohlcv['high'].to_numpy(), ohlcv['low'].to_numpy(), ohlcv['close'].to_numpy(), \n",
    "                         fastk_period=n, slowk_period=int((3/14)*n), slowd_period=int((3/14)*n))[0][-1] for n in self.PERIODS]\n",
    "    \n",
    "\n",
    "    def get_OBV(self, ohlcv:pd.DataFrame) -> list:\n",
    "        \"\"\"\n",
    "        Period별 OBV\n",
    "        \"\"\"\n",
    "        return [ta.OBV(ohlcv['close'].to_numpy(), ohlcv['volume'].to_numpy())[-1] for n in self.PERIODS]\n",
    "\n",
    "\n",
    "    def get_RSI_score(self, rsi_values:list):\n",
    "        \"\"\"\n",
    "        RSI 지표 스코어 기준\n",
    "        \"\"\"\n",
    "        def score_func(rsi):\n",
    "            if rsi < 30: \n",
    "                return -1\n",
    "            elif rsi > 70:\n",
    "                return 1\n",
    "            else: \n",
    "                return 0\n",
    "            \n",
    "        return list(map(score_func, rsi_values))\n",
    "    \n",
    "\n",
    "    def get_MACD_score(self, macd_values:list):\n",
    "        \"\"\" \n",
    "        MACD 지표 스코어 기준\n",
    "        \"\"\"\n",
    "        def score_func(macd):\n",
    "            if macd > 0: \n",
    "                return 1\n",
    "            else:\n",
    "                return -1\n",
    "            \n",
    "        return list(map(score_func, macd_values))\n",
    "        \n",
    "\n",
    "    def get_BBANDS_score(self, distance_values:list):\n",
    "        \"\"\"\n",
    "        BBANDS 지표 스코어 기준\n",
    "        \"\"\"\n",
    "        def score_func(distance):\n",
    "            if distance < -1:\n",
    "                return -1\n",
    "            elif distance > 1:\n",
    "                return 1\n",
    "            else:\n",
    "                return 0\n",
    "        \n",
    "        return list(map(score_func, distance_values))\n",
    "\n",
    "\n",
    "    def get_STOCH_score(self, slowk_values:list):\n",
    "        \"\"\"\n",
    "        STOCH 지표 스코어 기준\n",
    "        \"\"\"\n",
    "        def score_func(slowk):\n",
    "            if slowk < 20:\n",
    "                return -1\n",
    "            elif slowk > 80:\n",
    "                return 1\n",
    "            else:\n",
    "                return 0\n",
    "            \n",
    "        return list(map(score_func, slowk_values))\n",
    "    \n",
    "\n",
    "    def get_OBV_score(self, obv_values:list):\n",
    "        \"\"\" \n",
    "        OBV 지표 스코어 기준\n",
    "        \"\"\"\n",
    "        def score_func(obv):\n",
    "            if obv > 0:\n",
    "                return 1\n",
    "            else:\n",
    "                return -1\n",
    "            \n",
    "        return list(map(score_func, obv_values))\n",
    "\n",
    "\n",
    "    def update_tickers(self):\n",
    "        \"\"\"\n",
    "        Ticker List를 멤버변수 self.tickers에 저장\n",
    "        \"\"\"\n",
    "        ticker_infos = self.get_all_listings()\n",
    "        tickers = [info['symbol'] for info in ticker_infos]\n",
    "        self.tickers = list( map(lambda x:x.upper(), tickers) )\n",
    "\n",
    "\n",
    "    def update_historical_data_frame(self, tickers:list=None):\n",
    "        \"\"\"\n",
    "        Ticker 과거 데이터를 멤버변수 self.historical_data_frame에 저장\n",
    "        \"\"\"\n",
    "\n",
    "        tickers = self.tickers if tickers is None else tickers\n",
    "\n",
    "        for ticker in tqdm(tickers):\n",
    "            \n",
    "            try: \n",
    "                # time.sleep(0.5)\n",
    "                self.historical_data_dict.update({ticker:self.get_ohlcv_n(ticker)})\n",
    "            except:\n",
    "                try:\n",
    "                    time.sleep(3.0)\n",
    "                    self.historical_data_dict.update({ticker:self.get_ohlcv_n(ticker)})\n",
    "                except:\n",
    "                    continue\n",
    "\n",
    "\n",
    "    def get_ohlcv_n(self, ticker:str, n=500) -> pd.DataFrame:\n",
    "        \"\"\" \n",
    "        현재 시점으로부터 과거 n개의 ohlcv 데이터를 리턴\n",
    "        \"\"\"\n",
    "\n",
    "        date_ago = datetime.now() - timedelta(days = n + 1)\n",
    "        historical_info = self.get_ohlcv_historical(ticker, start=date_ago)\n",
    "        dataframe = pd.DataFrame([info['quote']['USD'] for info in historical_info])\n",
    "        dataframe = dataframe.set_index('timestamp', drop=True)\n",
    "        return dataframe\n",
    "    \n",
    "        \n",
    "    def _get_price_to_now(self, tickers:list, types:list = ['close']):\n",
    "\n",
    "        try:\n",
    "            realtime_for_all = self.get_ohlcv_realtime(tickers)\n",
    "        except:\n",
    "            print('API CALL RETRY')\n",
    "            realtime_for_all = self.get_ohlcv_realtime(tickers)\n",
    "        \n",
    "        # realtime df dictionary update\n",
    "        for ticker in tickers:\n",
    "            historical_df = self.historical_data_dict[ticker]\n",
    "            realtime_df = pd.DataFrame([realtime_for_all[ticker][0]['quote']['USD']])\n",
    "            realtime_df.set_index('last_updated', inplace=True)\n",
    "            total_df = pd.concat([historical_df[types], realtime_df[types]])\n",
    "            self.now_data_dict[ticker] = total_df\n",
    "\n",
    "\n",
    "    def _get_normalize(self, array:np.array, upper:int=5, lower:int=-5):\n",
    "        \"\"\"\n",
    "        Min-Max normalize으로 upper, lower bounding\n",
    "        \"\"\"\n",
    "        k = upper - lower\n",
    "        d = -lower\n",
    "\n",
    "        new_array = array.copy()\n",
    "        max_score = np.max(new_array)\n",
    "        min_score = np.min(new_array)\n",
    "\n",
    "        if len(array) == 1:\n",
    "            return new_array\n",
    "        \n",
    "        if max_score == min_score:\n",
    "            return new_array\n",
    "    \n",
    "        new_array = k * (new_array - min_score) / (max_score - min_score) - d\n",
    "        return new_array"
   ]
  },
  {
   "cell_type": "code",
   "execution_count": 243,
   "metadata": {},
   "outputs": [],
   "source": [
    "indicator = Indicator(CMC_API_KEY)"
   ]
  },
  {
   "cell_type": "code",
   "execution_count": 244,
   "metadata": {},
   "outputs": [],
   "source": [
    "tickers = indicator.tickers"
   ]
  },
  {
   "attachments": {},
   "cell_type": "markdown",
   "metadata": {},
   "source": [
    "#### 전일까지의 과거 데이터 ticker 별로 멤버변수에 저장"
   ]
  },
  {
   "cell_type": "code",
   "execution_count": 394,
   "metadata": {},
   "outputs": [],
   "source": [
    "ticker = 'BAL'"
   ]
  },
  {
   "cell_type": "code",
   "execution_count": 395,
   "metadata": {},
   "outputs": [
    {
     "name": "stderr",
     "output_type": "stream",
     "text": [
      "100%|██████████| 1/1 [00:01<00:00,  1.08s/it]\n"
     ]
    }
   ],
   "source": [
    "indicator.update_historical_data_frame([ticker])"
   ]
  },
  {
   "attachments": {},
   "cell_type": "markdown",
   "metadata": {},
   "source": [
    "#### 기간별 지표값 가져오기"
   ]
  },
  {
   "cell_type": "code",
   "execution_count": 396,
   "metadata": {},
   "outputs": [
    {
     "data": {
      "text/plain": [
       "500"
      ]
     },
     "execution_count": 396,
     "metadata": {},
     "output_type": "execute_result"
    }
   ],
   "source": [
    "ohlcv = indicator.historical_data_dict[ticker]\n",
    "len(ohlcv)"
   ]
  },
  {
   "cell_type": "code",
   "execution_count": 366,
   "metadata": {},
   "outputs": [
    {
     "data": {
      "text/plain": [
       "[-0.342518814453496, 0.8140857417466382, 1.3053824787202173]"
      ]
     },
     "execution_count": 366,
     "metadata": {},
     "output_type": "execute_result"
    }
   ],
   "source": [
    "indicator.get_BBANDS(ohlcv)"
   ]
  },
  {
   "cell_type": "code",
   "execution_count": 367,
   "metadata": {},
   "outputs": [
    {
     "data": {
      "text/plain": [
       "[55.32027599426399, 55.127078927327375, 54.01762667952787]"
      ]
     },
     "execution_count": 367,
     "metadata": {},
     "output_type": "execute_result"
    }
   ],
   "source": [
    "indicator.get_RSI(ohlcv)"
   ]
  },
  {
   "cell_type": "code",
   "execution_count": 368,
   "metadata": {},
   "outputs": [
    {
     "data": {
      "text/plain": [
       "[0.07894425935592153, 0.22923854289940482, 0.11503863595616526]"
      ]
     },
     "execution_count": 368,
     "metadata": {},
     "output_type": "execute_result"
    }
   ],
   "source": [
    "indicator.get_MACD(ohlcv)"
   ]
  },
  {
   "cell_type": "code",
   "execution_count": 369,
   "metadata": {},
   "outputs": [
    {
     "data": {
      "text/plain": [
       "[55.32027599426399, 55.127078927327375, 54.01762667952787]"
      ]
     },
     "execution_count": 369,
     "metadata": {},
     "output_type": "execute_result"
    }
   ],
   "source": [
    "indicator.get_RSI(ohlcv)"
   ]
  },
  {
   "cell_type": "code",
   "execution_count": 370,
   "metadata": {},
   "outputs": [
    {
     "data": {
      "text/plain": [
       "[33.04424086729678, 42.32064143858755, 46.581762654327456]"
      ]
     },
     "execution_count": 370,
     "metadata": {},
     "output_type": "execute_result"
    }
   ],
   "source": [
    "indicator.get_STOCH(ohlcv)"
   ]
  },
  {
   "cell_type": "code",
   "execution_count": 371,
   "metadata": {},
   "outputs": [
    {
     "data": {
      "text/plain": [
       "[-9764658.340000032, -9764658.340000032, -9764658.340000032]"
      ]
     },
     "execution_count": 371,
     "metadata": {},
     "output_type": "execute_result"
    }
   ],
   "source": [
    "indicator.get_OBV(ohlcv)"
   ]
  },
  {
   "attachments": {},
   "cell_type": "markdown",
   "metadata": {},
   "source": [
    "### 기간별 score 가져오기"
   ]
  },
  {
   "cell_type": "code",
   "execution_count": 372,
   "metadata": {},
   "outputs": [
    {
     "data": {
      "text/plain": [
       "[0, 0, 0]"
      ]
     },
     "execution_count": 372,
     "metadata": {},
     "output_type": "execute_result"
    }
   ],
   "source": [
    "indicator.get_RSI_score(indicator.get_RSI(ohlcv))"
   ]
  },
  {
   "cell_type": "code",
   "execution_count": 373,
   "metadata": {},
   "outputs": [
    {
     "data": {
      "text/plain": [
       "[1, 1, 1]"
      ]
     },
     "execution_count": 373,
     "metadata": {},
     "output_type": "execute_result"
    }
   ],
   "source": [
    "indicator.get_MACD_score(indicator.get_MACD(ohlcv))"
   ]
  },
  {
   "cell_type": "code",
   "execution_count": 374,
   "metadata": {},
   "outputs": [
    {
     "data": {
      "text/plain": [
       "[0, 0, 0]"
      ]
     },
     "execution_count": 374,
     "metadata": {},
     "output_type": "execute_result"
    }
   ],
   "source": [
    "indicator.get_STOCH_score(indicator.get_STOCH(ohlcv))"
   ]
  },
  {
   "cell_type": "code",
   "execution_count": 375,
   "metadata": {},
   "outputs": [
    {
     "data": {
      "text/plain": [
       "[0, 0, 1]"
      ]
     },
     "execution_count": 375,
     "metadata": {},
     "output_type": "execute_result"
    }
   ],
   "source": [
    "indicator.get_BBANDS_score(indicator.get_BBANDS(ohlcv))"
   ]
  },
  {
   "cell_type": "code",
   "execution_count": 376,
   "metadata": {},
   "outputs": [
    {
     "data": {
      "text/plain": [
       "[-1, -1, -1]"
      ]
     },
     "execution_count": 376,
     "metadata": {},
     "output_type": "execute_result"
    }
   ],
   "source": [
    "indicator.get_OBV_score(indicator.get_OBV(ohlcv))"
   ]
  },
  {
   "cell_type": "code",
   "execution_count": 377,
   "metadata": {},
   "outputs": [
    {
     "name": "stderr",
     "output_type": "stream",
     "text": [
      "100%|██████████| 1/1 [00:00<00:00, 879.49it/s]\n"
     ]
    },
    {
     "data": {
      "text/plain": [
       "({'CTX': {'RSI': [56.742548857360745, 55.52301167320017, 54.202972310772005],\n",
       "   'MACD': [0.08056691693709306, 0.23114839784889152, 0.121352590541419],\n",
       "   'BBANDS': [0.48052816238833757, 0.9106233670823358, 1.3329263095734853],\n",
       "   'STOCH': [24.950503472915265, 42.57928587972678, 47.030084344155746],\n",
       "   'OBV': [-9363379.580000032, -9363379.580000032, -9363379.580000032]}},\n",
       " {'CTX': {'7_period_score': 0.0,\n",
       "   '28_period_score': 0.0,\n",
       "   '91_period_score': 0.0,\n",
       "   'mean_score': 0.0}})"
      ]
     },
     "execution_count": 377,
     "metadata": {},
     "output_type": "execute_result"
    }
   ],
   "source": [
    "indicator.get_total_score([ticker])"
   ]
  },
  {
   "attachments": {},
   "cell_type": "markdown",
   "metadata": {},
   "source": [
    "#### ticker 여러개를 받아서 지표값, 스코어 받기"
   ]
  },
  {
   "cell_type": "code",
   "execution_count": 332,
   "metadata": {},
   "outputs": [
    {
     "name": "stderr",
     "output_type": "stream",
     "text": [
      "100%|██████████| 7/7 [00:00<00:00, 2801.00it/s]\n"
     ]
    }
   ],
   "source": [
    "value_dict, score_dict = indicator.get_total_score(tickers)"
   ]
  },
  {
   "cell_type": "code",
   "execution_count": 21,
   "metadata": {},
   "outputs": [
    {
     "data": {
      "text/plain": [
       "(50, 50)"
      ]
     },
     "execution_count": 21,
     "metadata": {},
     "output_type": "execute_result"
    }
   ],
   "source": [
    "len(value_dict.keys()), len(score_dict.keys())"
   ]
  }
 ],
 "metadata": {
  "kernelspec": {
   "display_name": "factor",
   "language": "python",
   "name": "python3"
  },
  "language_info": {
   "codemirror_mode": {
    "name": "ipython",
    "version": 3
   },
   "file_extension": ".py",
   "mimetype": "text/x-python",
   "name": "python",
   "nbconvert_exporter": "python",
   "pygments_lexer": "ipython3",
   "version": "3.11.5"
  },
  "orig_nbformat": 4,
  "vscode": {
   "interpreter": {
    "hash": "f51e0da3e3d90447dcadba55e0cb4a38546033c4e076c9d4b80673409e62cb43"
   }
  }
 },
 "nbformat": 4,
 "nbformat_minor": 2
}
