{
 "cells": [
  {
   "cell_type": "code",
   "execution_count": 3,
   "metadata": {},
   "outputs": [
    {
     "name": "stdout",
     "output_type": "stream",
     "text": [
      "/Users/mac/Desktop/Work Space/indicator\n"
     ]
    }
   ],
   "source": [
    "cd .."
   ]
  },
  {
   "cell_type": "code",
   "execution_count": 4,
   "metadata": {},
   "outputs": [],
   "source": [
    "import talib as ta\n",
    "import pandas as pd\n",
    "\n",
    "from coinmarketcap_dataloader import CoinMarketCap\n",
    "from coinmarketcap_dataloader import CMC_API_KEY"
   ]
  },
  {
   "attachments": {},
   "cell_type": "markdown",
   "metadata": {},
   "source": [
    "### Indicator Module\n",
    "\n",
    "- for loop을 계속 돌리면 api error가 발생해서 time sleep을 넣음 <br>\n",
    "- 전일까지의 historical data 일부는 멤버변수에 할당해놓고 사용하는 형태로 구현 <br>\n",
    "- 각 지표의 기간별 값을 ticker key를 갖는 dict으로 리턴: value_dict <br>\n",
    "- 각 지표의 기간별 스코어를 ticker key를 갖는 dict으로 리턴: score_dict <br> "
   ]
  },
  {
   "cell_type": "code",
   "execution_count": 28,
   "metadata": {},
   "outputs": [],
   "source": [
    "import time \n",
    "import numpy as np\n",
    "import talib as ta\n",
    "import multiprocessing\n",
    "\n",
    "from tqdm import tqdm\n",
    "from typing import Tuple\n",
    "from datetime import datetime\n",
    "from datetime import timedelta\n",
    "\n",
    "\n",
    "class Indicator(CoinMarketCap):\n",
    "    PERIODS = [\n",
    "        7, 28, 91]\n",
    "\n",
    "    SCORE_NAMES = [\n",
    "        '7_period_score', \n",
    "        '28_period_score', \n",
    "        '91_period_score', \n",
    "        'mean_score'\n",
    "        ]\n",
    "\n",
    "    INDICATOR_NAMES = [\n",
    "        'RSI', 'MACD', \n",
    "        'BBANDS', 'STOCH', 'OBV']\n",
    "\n",
    "\n",
    "    def __init__(self, API_KEY):\n",
    "        super().__init__(API_KEY)\n",
    "\n",
    "        self.tickers:list = None\n",
    "        self.historical_data_dict:dict = {}\n",
    "        self.now_data_dict:dict = {}\n",
    "\n",
    "        self.update_tickers()\n",
    "\n",
    "\n",
    "    def get_total_score(self, tickers:list) -> Tuple[dict, dict]:\n",
    "        \"\"\"\n",
    "        입력 ticker들에 대한 total score list를 리턴\n",
    "\n",
    "        [value_dict]\n",
    "        {'BTC': {'RSI': [53., 65., 62.],\n",
    "                'MACD': [1317., 3107., 3222.],\n",
    "                'BBANDS': [22., 88., 95.],\n",
    "                'STOCH': [-2., 1., 1.],\n",
    "                'OBV': [71681935600., 71681935600., 71681935600.]},\n",
    "\n",
    "        'USDT': {'RSI': [51., 50., 50.],\n",
    "                'MACD': [-5.6, 1.5, -4.],\n",
    "                'BBANDS': [58., 53., 49.],\n",
    "                'STOCH': [0., 0., 0.],\n",
    "                'OBV': [-610460727736., -610460727736., -610460727736.]},\n",
    "\n",
    "        'ETH': {'RSI': [50., 60., 57.],\n",
    "                'MACD': [61., 138., 85.3873846637475],\n",
    "                'BBANDS': [23., 85., 91.],\n",
    "                'STOCH': [-1., 0., 1.],\n",
    "                'OBV': [102378389016.81, 102378389016.81, 102378389016.81]}}\n",
    "        \n",
    "\n",
    "        [score_dict]\n",
    "        {'BTC': {'7_period_score': 1.0,\n",
    "                '28_period_score': 4.0,\n",
    "                '91_period_score': 4.0,\n",
    "                'mean_score': 3.0},\n",
    "\n",
    "        'USDT': {'7_period_score': -2.0,\n",
    "                '28_period_score': 0.0,\n",
    "                '91_period_score': -2.0,\n",
    "                'mean_score': -1.333},\n",
    "\n",
    "        'ETH': {'7_period_score': 1.0,\n",
    "                '28_period_score': 3.0,\n",
    "                '91_period_score': 4.0,\n",
    "                'mean_score': 2.667}}\n",
    "        \"\"\"\n",
    "\n",
    "    \n",
    "        tickers = set(tickers).intersection(\n",
    "            set(self.historical_data_dict.keys())\n",
    "        )\n",
    "\n",
    "        scoring_func = [\n",
    "            self.get_RSI_score,\n",
    "            self.get_MACD_score,\n",
    "            self.get_STOCH_score,\n",
    "            self.get_BBANDS_score,\n",
    "            self.get_OBV_score,\n",
    "        ]\n",
    "\n",
    "        def parrallel(tickers):\n",
    "            with multiprocessing.Pool() as pool:\n",
    "                value_array = list(pool.map(self.get_ALL, tickers))\n",
    "            return value_array\n",
    "\n",
    "        # 모든 ticker의 지표별, 기간별 indicator 값에 대한 어레이\n",
    "        value_array = parrallel(tickers)\n",
    "\n",
    "        # ticker : {indicator: [values1, values2, ...]}\n",
    "        value_dict = {ticker: {name:value for name, value in zip(self.INDICATOR_NAMES, values)} \\\n",
    "            for ticker, values in zip(tickers, value_array)}\n",
    "\n",
    "        # 모든 ticker의 지표별, 기간별 score 값에 대한 어레이\n",
    "        score_array = np.array([ [func(values) for func, values in zip(scoring_func, value_dict[ticker].values())] \\\n",
    "            for ticker in tickers ])\n",
    "\n",
    "        # 모든 지표에 대해서 합하여 기간별 score 산출\n",
    "        score_array_sum = np.sum(score_array, axis=1)\n",
    "        # 기간별 score와 기간별 score의 평균을 묶어서 최종 score 배열로 \n",
    "        score_array_total = np.concatenate([score_array_sum, np.mean(score_array_sum, axis=-1)[:,np.newaxis]], axis=1)\n",
    "        score_array_total = np.round(score_array_total, decimals=3)\n",
    "\n",
    "        # ticker: {period: score}\n",
    "        score_dict = {ticker: {name:score for name, score in zip(self.SCORE_NAMES, score_list)} \\\n",
    "            for ticker, score_list in zip(tickers, score_array_total)}\n",
    "    \n",
    "        return value_dict, score_dict\n",
    "\n",
    "\n",
    "    def get_ALL(self, ticker:str) -> list:\n",
    "        \"\"\"\n",
    "        모든 지표값을 리턴\n",
    "        \"\"\"\n",
    "\n",
    "        # 사용할 지표 계산 메서드\n",
    "        all_indicators = [self.get_RSI, \n",
    "                          self.get_MACD, \n",
    "                          self.get_BBANDS, \n",
    "                          self.get_STOCH, \n",
    "                          self.get_OBV]\n",
    "        \n",
    "        # 현재가 포함 데이터 존재하면 가져오기\n",
    "        if ticker in self.now_data_dict.keys():\n",
    "            ohlcv = self.now_data_dict[ticker]\n",
    "\n",
    "        # 현재가 포함 데이터 없으면 API Call 하고 저장\n",
    "        else:\n",
    "            ohlcv = self._get_price_to_now(ticker, types=['open', 'high', 'low', 'close', 'volume'])\n",
    "            self.now_data_dict[ticker] = ohlcv\n",
    "\n",
    "        return [func(ohlcv) for func in all_indicators]\n",
    "\n",
    "\n",
    "    def get_RSI(self, ohlcv:pd.DataFrame) -> list:\n",
    "        \"\"\"\n",
    "        Period별 RSI\n",
    "        \"\"\"\n",
    "        return [ta.RSI(ohlcv['close'].to_numpy(), n)[-1] for n in self.PERIODS]\n",
    "\n",
    "    \n",
    "    def get_MACD(self, ohlcv:pd.DataFrame) -> list:\n",
    "        \"\"\"\n",
    "        Period별 MACD \n",
    "        \"\"\"\n",
    "        return [ta.MACD(ohlcv['close'].to_numpy(), fastperiod=n, slowperiod=int((26/12)*n), signalperiod=int((9/12)*n))[0][-1] for n in self.PERIODS]\n",
    "\n",
    "\n",
    "    def get_BBANDS(self, ohlcv:pd.DataFrame) -> list:\n",
    "        \"\"\"\n",
    "        Period별 BBANDS \n",
    "        \"\"\"\n",
    "        return [(ohlcv['close'][-1] - ta.SMA(ohlcv['close'].to_numpy(), timeperiod=n)[-1]) / \\\n",
    "         ta.STDDEV(ohlcv['close'].to_numpy(), timeperiod=n)[-1] for n in self.PERIODS]\n",
    "\n",
    "    \n",
    "    def get_STOCH(self, ohlcv:pd.DataFrame) -> list:\n",
    "        \"\"\"\n",
    "        Period별 STOCH\n",
    "        \"\"\"\n",
    "        return [ta.STOCH(ohlcv['high'].to_numpy(), ohlcv['low'].to_numpy(), ohlcv['close'].to_numpy(), \n",
    "                         fastk_period=n, slowk_period=int((3/14)*n), slowd_period=int((3/14)*n))[0][-1] for n in self.PERIODS]\n",
    "    \n",
    "\n",
    "    def get_OBV(self, ohlcv:pd.DataFrame) -> list:\n",
    "        \"\"\"\n",
    "        Period별 OBV\n",
    "        \"\"\"\n",
    "        return [ta.OBV(ohlcv['close'].to_numpy(), ohlcv['volume'].to_numpy())[-1] for n in self.PERIODS]\n",
    "\n",
    "\n",
    "    def get_RSI_score(self, rsi_values:list):\n",
    "        \"\"\"\n",
    "        RSI 지표 스코어 기준\n",
    "        \"\"\"\n",
    "        def score_func(rsi):\n",
    "            if rsi < 30: \n",
    "                return -1\n",
    "            elif rsi > 70:\n",
    "                return 1\n",
    "            else: \n",
    "                return 0\n",
    "            \n",
    "        return list(map(score_func, rsi_values))\n",
    "    \n",
    "\n",
    "    def get_MACD_score(self, macd_values:list):\n",
    "        \"\"\" \n",
    "        MACD 지표 스코어 기준\n",
    "        \"\"\"\n",
    "        def score_func(macd):\n",
    "            if macd > 0: \n",
    "                return 1\n",
    "            else:\n",
    "                return -1\n",
    "            \n",
    "        return list(map(score_func, macd_values))\n",
    "        \n",
    "\n",
    "    def get_BBANDS_score(self, distance_values:list):\n",
    "        \"\"\"\n",
    "        BBANDS 지표 스코어 기준\n",
    "        \"\"\"\n",
    "        def score_func(distance):\n",
    "            if distance < -1:\n",
    "                return -1\n",
    "            elif distance > 1:\n",
    "                return 1\n",
    "            else:\n",
    "                return 0\n",
    "        \n",
    "        return list(map(score_func, distance_values))\n",
    "\n",
    "\n",
    "    def get_STOCH_score(self, slowk_values:list):\n",
    "        \"\"\"\n",
    "        STOCH 지표 스코어 기준\n",
    "        \"\"\"\n",
    "        def score_func(slowk):\n",
    "            if slowk < 20:\n",
    "                return -1\n",
    "            elif slowk > 80:\n",
    "                return 1\n",
    "            else:\n",
    "                return 0\n",
    "            \n",
    "        return list(map(score_func, slowk_values))\n",
    "    \n",
    "\n",
    "    def get_OBV_score(self, obv_values:list):\n",
    "        \"\"\" \n",
    "        OBV 지표 스코어 기준\n",
    "        \"\"\"\n",
    "        def score_func(obv):\n",
    "            if obv > 0:\n",
    "                return 1\n",
    "            else:\n",
    "                return -1\n",
    "            \n",
    "        return list(map(score_func, obv_values))\n",
    "\n",
    "\n",
    "    def update_tickers(self):\n",
    "        \"\"\"\n",
    "        Ticker List를 멤버변수 self.tickers에 저장\n",
    "        \"\"\"\n",
    "        ticker_infos = self.get_all_listings()\n",
    "        tickers = [info['symbol'] for info in ticker_infos]\n",
    "        self.tickers = list( map(lambda x:x.upper(), tickers) )\n",
    "\n",
    "\n",
    "    def update_historical_data_frame(self, tickers:list=None):\n",
    "        \"\"\"\n",
    "        Ticker 과거 데이터를 멤버변수 self.historical_data_frame에 저장\n",
    "        \"\"\"\n",
    "\n",
    "        tickers = self.tickers if tickers is None else tickers\n",
    "\n",
    "        for ticker in tqdm(tickers):\n",
    "            \n",
    "            try: \n",
    "                # time.sleep(0.5)\n",
    "                self.historical_data_dict.update({ticker:self.get_ohlcv_n(ticker)})\n",
    "            except:\n",
    "                try:\n",
    "                    time.sleep(3.0)\n",
    "                    self.historical_data_dict.update({ticker:self.get_ohlcv_n(ticker)})\n",
    "                except:\n",
    "                    continue\n",
    "\n",
    "\n",
    "    def get_ohlcv_n(self, ticker:str, n=300) -> pd.DataFrame:\n",
    "        \"\"\" \n",
    "        현재 시점으로부터 과거 n개의 ohlcv 데이터를 리턴\n",
    "        \"\"\"\n",
    "\n",
    "        date_ago = datetime.now() - timedelta(days = n + 1)\n",
    "        historical_info = self.get_ohlcv_historical(ticker, start=date_ago)\n",
    "        dataframe = pd.DataFrame([info['quote']['USD'] for info in historical_info])\n",
    "        dataframe = dataframe.set_index('timestamp', drop=True)\n",
    "        return dataframe\n",
    "    \n",
    "\n",
    "    def _get_price_to_now(self, ticker:str, types:list = ['close']) -> pd.DataFrame:\n",
    "        \"\"\"\n",
    "        과거 데이터 + 현재 시점까지의 가격 및 거래량 데이터를 리턴\n",
    "        \"\"\"\n",
    "\n",
    "        # 전일까지의 price dataframe\n",
    "        historical_df = self.historical_data_dict[ticker]\n",
    "    \n",
    "        try:\n",
    "            # 현재시점의 price dataframe\n",
    "            realtime_df = self.get_ohlcv_realtime([ticker])\n",
    "            realtime_df = pd.DataFrame([realtime_df[ticker][0]['quote']['USD']])\n",
    "            realtime_df.set_index('last_updated', inplace=True)\n",
    "            # price series  \n",
    "            price = pd.concat([historical_df[types], realtime_df[types]])\n",
    "        \n",
    "        except:\n",
    "            price = historical_df[types] \n",
    "\n",
    "        return price\n",
    "    \n",
    "\n",
    "    def _get_normalize(self, array:np.array, upper:int=5, lower:int=-5):\n",
    "        \"\"\"\n",
    "        Min-Max normalize으로 upper, lower bounding\n",
    "        \"\"\"\n",
    "        k = upper - lower\n",
    "        d = -lower\n",
    "\n",
    "        new_array = array.copy()\n",
    "        max_score = np.max(new_array)\n",
    "        min_score = np.min(new_array)\n",
    "\n",
    "        if len(array) == 1:\n",
    "            return new_array\n",
    "        \n",
    "        if max_score == min_score:\n",
    "            return new_array\n",
    "    \n",
    "        new_array = k * (new_array - min_score) / (max_score - min_score) - d\n",
    "        return new_array"
   ]
  },
  {
   "cell_type": "code",
   "execution_count": 29,
   "metadata": {},
   "outputs": [],
   "source": [
    "indicator = Indicator(CMC_API_KEY)"
   ]
  },
  {
   "cell_type": "code",
   "execution_count": 30,
   "metadata": {},
   "outputs": [],
   "source": [
    "tickers = indicator.tickers[:10]"
   ]
  },
  {
   "attachments": {},
   "cell_type": "markdown",
   "metadata": {},
   "source": [
    "#### 전일까지의 과거 데이터 ticker 별로 멤버변수에 저장"
   ]
  },
  {
   "cell_type": "code",
   "execution_count": 31,
   "metadata": {},
   "outputs": [
    {
     "name": "stderr",
     "output_type": "stream",
     "text": [
      "100%|██████████| 10/10 [00:20<00:00,  2.08s/it]\n"
     ]
    }
   ],
   "source": [
    "indicator.update_historical_data_frame(tickers)"
   ]
  },
  {
   "cell_type": "code",
   "execution_count": 33,
   "metadata": {},
   "outputs": [
    {
     "data": {
      "text/plain": [
       "10"
      ]
     },
     "execution_count": 33,
     "metadata": {},
     "output_type": "execute_result"
    }
   ],
   "source": [
    "len(indicator.historical_data_dict)"
   ]
  },
  {
   "attachments": {},
   "cell_type": "markdown",
   "metadata": {},
   "source": [
    "#### 기간별 지표값 가져오기"
   ]
  },
  {
   "cell_type": "code",
   "execution_count": 37,
   "metadata": {},
   "outputs": [],
   "source": [
    "ohlcv = indicator.historical_data_dict['ETH']"
   ]
  },
  {
   "cell_type": "code",
   "execution_count": 38,
   "metadata": {},
   "outputs": [
    {
     "data": {
      "text/plain": [
       "[0.8071250469620929, 1.8560262697325294, 2.240709271460353]"
      ]
     },
     "execution_count": 38,
     "metadata": {},
     "output_type": "execute_result"
    }
   ],
   "source": [
    "indicator.get_BBANDS(ohlcv)"
   ]
  },
  {
   "cell_type": "code",
   "execution_count": 39,
   "metadata": {},
   "outputs": [
    {
     "data": {
      "text/plain": [
       "[74.39340591760246, 67.59815787008375, 59.68485530943772]"
      ]
     },
     "execution_count": 39,
     "metadata": {},
     "output_type": "execute_result"
    }
   ],
   "source": [
    "indicator.get_RSI(ohlcv)"
   ]
  },
  {
   "cell_type": "code",
   "execution_count": 40,
   "metadata": {},
   "outputs": [
    {
     "data": {
      "text/plain": [
       "[79.14566873891226, 138.89652201797935, 82.56813095021403]"
      ]
     },
     "execution_count": 40,
     "metadata": {},
     "output_type": "execute_result"
    }
   ],
   "source": [
    "indicator.get_MACD(ohlcv)"
   ]
  },
  {
   "cell_type": "code",
   "execution_count": 41,
   "metadata": {},
   "outputs": [
    {
     "data": {
      "text/plain": [
       "[76.59004324867097, 90.86638660041791, 91.50265112080265]"
      ]
     },
     "execution_count": 41,
     "metadata": {},
     "output_type": "execute_result"
    }
   ],
   "source": [
    "indicator.get_STOCH(ohlcv)"
   ]
  },
  {
   "cell_type": "code",
   "execution_count": 42,
   "metadata": {},
   "outputs": [
    {
     "data": {
      "text/plain": [
       "[113910890465.45999, 113910890465.45999, 113910890465.45999]"
      ]
     },
     "execution_count": 42,
     "metadata": {},
     "output_type": "execute_result"
    }
   ],
   "source": [
    "indicator.get_OBV(ohlcv)"
   ]
  },
  {
   "attachments": {},
   "cell_type": "markdown",
   "metadata": {},
   "source": [
    "### 기간별 score 가져오기"
   ]
  },
  {
   "cell_type": "code",
   "execution_count": 43,
   "metadata": {},
   "outputs": [
    {
     "data": {
      "text/plain": [
       "[1, 0, 0]"
      ]
     },
     "execution_count": 43,
     "metadata": {},
     "output_type": "execute_result"
    }
   ],
   "source": [
    "indicator.get_RSI_score(indicator.get_RSI(ohlcv))"
   ]
  },
  {
   "cell_type": "code",
   "execution_count": 44,
   "metadata": {},
   "outputs": [
    {
     "data": {
      "text/plain": [
       "[1, 1, 1]"
      ]
     },
     "execution_count": 44,
     "metadata": {},
     "output_type": "execute_result"
    }
   ],
   "source": [
    "indicator.get_MACD_score(indicator.get_MACD(ohlcv))"
   ]
  },
  {
   "cell_type": "code",
   "execution_count": 45,
   "metadata": {},
   "outputs": [
    {
     "data": {
      "text/plain": [
       "[0, 1, 1]"
      ]
     },
     "execution_count": 45,
     "metadata": {},
     "output_type": "execute_result"
    }
   ],
   "source": [
    "indicator.get_STOCH_score(indicator.get_STOCH(ohlcv))"
   ]
  },
  {
   "cell_type": "code",
   "execution_count": 46,
   "metadata": {},
   "outputs": [
    {
     "data": {
      "text/plain": [
       "[0, 1, 1]"
      ]
     },
     "execution_count": 46,
     "metadata": {},
     "output_type": "execute_result"
    }
   ],
   "source": [
    "indicator.get_BBANDS_score(indicator.get_BBANDS(ohlcv))"
   ]
  },
  {
   "cell_type": "code",
   "execution_count": 47,
   "metadata": {},
   "outputs": [
    {
     "data": {
      "text/plain": [
       "[1, 1, 1]"
      ]
     },
     "execution_count": 47,
     "metadata": {},
     "output_type": "execute_result"
    }
   ],
   "source": [
    "indicator.get_OBV_score(indicator.get_OBV(ohlcv))"
   ]
  },
  {
   "attachments": {},
   "cell_type": "markdown",
   "metadata": {},
   "source": [
    "#### ticker 여러개를 받아서 지표값, 스코어 받기"
   ]
  },
  {
   "cell_type": "code",
   "execution_count": null,
   "metadata": {},
   "outputs": [],
   "source": [
    "value_dict, score_dict = indicator.get_total_score(tickers)"
   ]
  },
  {
   "cell_type": "code",
   "execution_count": 15,
   "metadata": {},
   "outputs": [
    {
     "data": {
      "text/plain": [
       "(10, 10)"
      ]
     },
     "execution_count": 15,
     "metadata": {},
     "output_type": "execute_result"
    }
   ],
   "source": [
    "len(value_dict.keys()), len(score_dict.keys())"
   ]
  }
 ],
 "metadata": {
  "kernelspec": {
   "display_name": "factor",
   "language": "python",
   "name": "python3"
  },
  "language_info": {
   "codemirror_mode": {
    "name": "ipython",
    "version": 3
   },
   "file_extension": ".py",
   "mimetype": "text/x-python",
   "name": "python",
   "nbconvert_exporter": "python",
   "pygments_lexer": "ipython3",
   "version": "3.10.13"
  },
  "orig_nbformat": 4,
  "vscode": {
   "interpreter": {
    "hash": "f51e0da3e3d90447dcadba55e0cb4a38546033c4e076c9d4b80673409e62cb43"
   }
  }
 },
 "nbformat": 4,
 "nbformat_minor": 2
}
