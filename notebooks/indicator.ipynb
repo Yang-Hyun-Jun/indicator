{
 "cells": [
  {
   "cell_type": "code",
   "execution_count": 1,
   "metadata": {},
   "outputs": [],
   "source": [
    "import os\n",
    "os.chdir('/home/hyunjun/workspace/technical_indicator')"
   ]
  },
  {
   "cell_type": "code",
   "execution_count": 9,
   "metadata": {},
   "outputs": [],
   "source": [
    "import talib as ta\n",
    "import pandas as pd\n",
    "\n",
    "from coinmarketcap_dataloader import CoinMarketCap\n",
    "from coinmarketcap_dataloader import CMC_API_KEY"
   ]
  },
  {
   "cell_type": "code",
   "execution_count": 3,
   "metadata": {},
   "outputs": [],
   "source": [
    "wrapper = CoinMarketCap(CMC_API_KEY)"
   ]
  },
  {
   "cell_type": "code",
   "execution_count": 30,
   "metadata": {},
   "outputs": [],
   "source": [
    "historical_info = wrapper.get_ohlcv_historical('BTC', start='2019')\n",
    "historical_data = [info['quote']['USD'] for info in historical_info]\n",
    "df = pd.DataFrame(historical_data)\n",
    "df = df.set_index('timestamp', drop=True)"
   ]
  },
  {
   "cell_type": "code",
   "execution_count": 31,
   "metadata": {},
   "outputs": [
    {
     "data": {
      "text/plain": [
       "timestamp\n",
       "2019-01-02T23:59:59.999Z          NaN\n",
       "2019-01-03T23:59:59.999Z          NaN\n",
       "2019-01-04T23:59:59.999Z          NaN\n",
       "2019-01-05T23:59:59.999Z          NaN\n",
       "2019-01-06T23:59:59.999Z          NaN\n",
       "                              ...    \n",
       "2023-12-03T23:59:59.999Z    78.722157\n",
       "2023-12-04T23:59:59.999Z    86.854468\n",
       "2023-12-05T23:59:59.999Z    91.044748\n",
       "2023-12-06T23:59:59.999Z    85.958720\n",
       "2023-12-07T23:59:59.999Z    78.970419\n",
       "Length: 1801, dtype: float64"
      ]
     },
     "execution_count": 31,
     "metadata": {},
     "output_type": "execute_result"
    }
   ],
   "source": [
    "ta.RSI(df['close'], timeperiod=7)"
   ]
  },
  {
   "cell_type": "code",
   "execution_count": 33,
   "metadata": {},
   "outputs": [
    {
     "data": {
      "text/plain": [
       "timestamp\n",
       "2019-01-02T23:59:59.999Z            NaN\n",
       "2019-01-03T23:59:59.999Z            NaN\n",
       "2019-01-04T23:59:59.999Z            NaN\n",
       "2019-01-05T23:59:59.999Z            NaN\n",
       "2019-01-06T23:59:59.999Z            NaN\n",
       "                               ...     \n",
       "2023-12-03T23:59:59.999Z    1106.471729\n",
       "2023-12-04T23:59:59.999Z    1325.957703\n",
       "2023-12-05T23:59:59.999Z    1650.374140\n",
       "2023-12-06T23:59:59.999Z    1859.078844\n",
       "2023-12-07T23:59:59.999Z    1965.208778\n",
       "Length: 1801, dtype: float64"
      ]
     },
     "execution_count": 33,
     "metadata": {},
     "output_type": "execute_result"
    }
   ],
   "source": [
    "macd, signal, _ = ta.MACD(df['close'], fastperiod=12, slowperiod=26, signalperiod=9)\n",
    "macd"
   ]
  },
  {
   "cell_type": "code",
   "execution_count": 37,
   "metadata": {},
   "outputs": [
    {
     "data": {
      "text/plain": [
       "timestamp\n",
       "2019-01-02T23:59:59.999Z             NaN\n",
       "2019-01-03T23:59:59.999Z             NaN\n",
       "2019-01-04T23:59:59.999Z             NaN\n",
       "2019-01-05T23:59:59.999Z             NaN\n",
       "2019-01-06T23:59:59.999Z             NaN\n",
       "                                ...     \n",
       "2023-12-03T23:59:59.999Z    38553.593395\n",
       "2023-12-04T23:59:59.999Z    39170.252524\n",
       "2023-12-05T23:59:59.999Z    40050.031198\n",
       "2023-12-06T23:59:59.999Z    40728.735806\n",
       "2023-12-07T23:59:59.999Z    41247.210216\n",
       "Length: 1801, dtype: float64"
      ]
     },
     "execution_count": 37,
     "metadata": {},
     "output_type": "execute_result"
    }
   ],
   "source": [
    "upper_band, middle_band, lower_band = ta.BBANDS(df['close'], timeperiod=20, nbdevup=1, nbdevdn=1)\n",
    "upper_band"
   ]
  },
  {
   "cell_type": "code",
   "execution_count": 40,
   "metadata": {},
   "outputs": [
    {
     "data": {
      "text/plain": [
       "timestamp\n",
       "2019-01-02T23:59:59.999Z          NaN\n",
       "2019-01-03T23:59:59.999Z          NaN\n",
       "2019-01-04T23:59:59.999Z          NaN\n",
       "2019-01-05T23:59:59.999Z          NaN\n",
       "2019-01-06T23:59:59.999Z          NaN\n",
       "                              ...    \n",
       "2023-12-03T23:59:59.999Z    91.552065\n",
       "2023-12-04T23:59:59.999Z    92.868461\n",
       "2023-12-05T23:59:59.999Z    93.678088\n",
       "2023-12-06T23:59:59.999Z    91.855276\n",
       "2023-12-07T23:59:59.999Z    87.273111\n",
       "Length: 1801, dtype: float64"
      ]
     },
     "execution_count": 40,
     "metadata": {},
     "output_type": "execute_result"
    }
   ],
   "source": [
    "\"\"\" \n",
    "slowk:\n",
    "이 배열은 Stochastic Oscillator의 메인 라인인 %K 라인을 나타냅니다. \n",
    "특정 기간 동안의 최고 가격과 최저 가격을 기준으로 현재 가격을 나타냅니다. \n",
    "가격 변화에 더 민감하며 빠른 라인으로 간주됩니다.\n",
    "\n",
    "slowd: \n",
    "이 배열은 %K 선을 평활화한 버전인 %D 선을 나타냅니다. \n",
    "%K선의 이동평균으로 계산되기 때문에 느린선이라고도 합니다. \n",
    "느린 라인은 %K 라인의 변동을 완화하여 보다 안정적인 신호를 제공합니다.\n",
    "\"\"\"\n",
    "\n",
    "slowk, slowd = ta.STOCH(df['high'], df['low'], df['close'], fastk_period=5, slowk_period=3, slowd_period=3)\n",
    "slowk "
   ]
  },
  {
   "cell_type": "code",
   "execution_count": 42,
   "metadata": {},
   "outputs": [
    {
     "data": {
      "text/plain": [
       "timestamp\n",
       "2019-01-02T23:59:59.999Z    5.244857e+09\n",
       "2019-01-03T23:59:59.999Z    7.146416e+08\n",
       "2019-01-04T23:59:59.999Z    5.562607e+09\n",
       "2019-01-05T23:59:59.999Z    4.249973e+08\n",
       "2019-01-06T23:59:59.999Z    6.022025e+09\n",
       "                                ...     \n",
       "2023-12-03T23:59:59.999Z    1.043735e+12\n",
       "2023-12-04T23:59:59.999Z    1.083591e+12\n",
       "2023-12-05T23:59:59.999Z    1.119904e+12\n",
       "2023-12-06T23:59:59.999Z    1.089994e+12\n",
       "2023-12-07T23:59:59.999Z    1.062358e+12\n",
       "Length: 1801, dtype: float64"
      ]
     },
     "execution_count": 42,
     "metadata": {},
     "output_type": "execute_result"
    }
   ],
   "source": [
    "obv = ta.OBV(df['close'], df['volume'])\n",
    "obv "
   ]
  }
 ],
 "metadata": {
  "kernelspec": {
   "display_name": "factor",
   "language": "python",
   "name": "python3"
  },
  "language_info": {
   "codemirror_mode": {
    "name": "ipython",
    "version": 3
   },
   "file_extension": ".py",
   "mimetype": "text/x-python",
   "name": "python",
   "nbconvert_exporter": "python",
   "pygments_lexer": "ipython3",
   "version": "3.10.13"
  },
  "orig_nbformat": 4,
  "vscode": {
   "interpreter": {
    "hash": "f51e0da3e3d90447dcadba55e0cb4a38546033c4e076c9d4b80673409e62cb43"
   }
  }
 },
 "nbformat": 4,
 "nbformat_minor": 2
}
