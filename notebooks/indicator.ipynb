{
 "cells": [
  {
   "cell_type": "code",
   "execution_count": 1,
   "metadata": {},
   "outputs": [],
   "source": [
    "import os\n",
    "os.chdir('/home/hyunjun/workspace/technical_indicator')"
   ]
  },
  {
   "cell_type": "code",
   "execution_count": 2,
   "metadata": {},
   "outputs": [],
   "source": [
    "import talib as ta\n",
    "import pandas as pd\n",
    "\n",
    "from coinmarketcap_dataloader import CoinMarketCap\n",
    "from coinmarketcap_dataloader import CMC_API_KEY"
   ]
  },
  {
   "cell_type": "code",
   "execution_count": 3,
   "metadata": {},
   "outputs": [],
   "source": [
    "wrapper = CoinMarketCap(CMC_API_KEY)"
   ]
  },
  {
   "cell_type": "code",
   "execution_count": null,
   "metadata": {},
   "outputs": [],
   "source": [
    "ticker_infos = wrapper.get_all_listings()\n",
    "tickers = [info['symbol'] for info in ticker_infos]\n",
    "tickers"
   ]
  },
  {
   "cell_type": "code",
   "execution_count": 17,
   "metadata": {},
   "outputs": [],
   "source": [
    "from datetime import datetime, timedelta\n",
    "\n",
    "def get_ohlcv_from_now(ticker, count=100):\n",
    "    \n",
    "    current_date = datetime.now()\n",
    "    date_ago = current_date - timedelta(days = count + 1)\n",
    "\n",
    "    historical_info = wrapper.get_ohlcv_historical(ticker, start=date_ago)\n",
    "    df = pd.DataFrame([info['quote']['USD'] for info in historical_info])\n",
    "    df = df.set_index('timestamp', drop=True)\n",
    "    return df\n",
    "\n",
    "df = get_ohlcv_from_now('BTC', count=100)"
   ]
  },
  {
   "cell_type": "code",
   "execution_count": 144,
   "metadata": {},
   "outputs": [],
   "source": [
    "import numpy as np\n",
    "import talib as ta\n",
    "\n",
    "from typing import Tuple\n",
    "from datetime import datetime\n",
    "from datetime import timedelta\n",
    "\n",
    "\n",
    "class Indicator(CoinMarketCap):\n",
    "    def __init__(self, API_KEY):\n",
    "        super().__init__(API_KEY)\n",
    "\n",
    "        self.tickers:list = None\n",
    "        self.historical_data_dict:dict = {}\n",
    "\n",
    "        self.update_tickers()\n",
    "        self.update_historical_data_frame()\n",
    "\n",
    "\n",
    "    def update_tickers(self):\n",
    "        \"\"\"\n",
    "        Ticker List를 멤버변수 self.tickers에 저장\n",
    "        \"\"\"\n",
    "        ticker_infos = self.get_all_listings()\n",
    "        self.tickers = [info['symbol'] for info in ticker_infos]\n",
    "\n",
    "\n",
    "    def update_historical_data_frame(self):\n",
    "        \"\"\"\n",
    "        Ticker 과거 데이터를 멤버변수 self.historical_data_frame에 저장\n",
    "        \"\"\"\n",
    "        for ticker in self.tickers[:3]:\n",
    "            self.historical_data_dict.update({ticker:self.get_ohlcv_from_now(ticker)})\n",
    "\n",
    "\n",
    "    def get_total_score(self, tickers:list) -> dict:\n",
    "        \"\"\"\n",
    "        입력 ticker들에 대한 total score list를 리턴\n",
    "        \"\"\"\n",
    "        score_dict = {}\n",
    "\n",
    "        scoring_func = [self.get_RSI_score,\n",
    "                        self.get_MACD_score,\n",
    "                        self.get_OBV_score,\n",
    "                        self.get_STOCH_score,\n",
    "                        self.get_BBANDS_score]\n",
    "\n",
    "        \n",
    "        for ticker in tickers:\n",
    "            score_dict[ticker] = [list(func(ticker)) for func in scoring_func]\n",
    "\n",
    "        score_array = np.array(list(score_dict.values()))\n",
    "\n",
    "        mean_score_n1 = self._get_normalize( np.mean(score_array[:,:,0], axis=-1) )\n",
    "        mean_score_n2 = self._get_normalize( np.mean(score_array[:,:,1], axis=-1) )\n",
    "        mean_score_n3 = self._get_normalize( np.mean(score_array[:,:,2], axis=-1) )\n",
    "\n",
    "        total_mean_score = self._get_normalize( np.mean([mean_score_n1, mean_score_n2, mean_score_n3], axis=-1) )\n",
    "\n",
    "        return mean_score_n1, mean_score_n2, mean_score_n3, total_mean_score\n",
    "\n",
    "\n",
    "    def get_RSI_score(self, ticker:str) -> Tuple[int, int, int]:\n",
    "        \"\"\"\n",
    "        RSI\n",
    "        \"\"\"\n",
    "\n",
    "        def score_func(rsi):\n",
    "            if rsi < 30: \n",
    "                return -1\n",
    "            elif rsi > 70:\n",
    "                return 1\n",
    "            else: \n",
    "                return 0\n",
    "\n",
    "        n1, n2, n3 = 7, 28, 91\n",
    "\n",
    "        data = self._get_price_to_now(ticker, ['close'])\n",
    "\n",
    "        rsi_series_n1 = ta.RSI(data['close'], n1)\n",
    "        rsi_series_n2 = ta.RSI(data['close'], n2)\n",
    "        rsi_series_n3 = ta.RSI(data['close'], n3)\n",
    "\n",
    "        rsi_n1 = rsi_series_n1[-1]\n",
    "        rsi_n2 = rsi_series_n2[-1]\n",
    "        rsi_n3 = rsi_series_n3[-1]\n",
    "\n",
    "        rsi_n1_score = score_func(rsi_n1)\n",
    "        rsi_n2_score = score_func(rsi_n2)\n",
    "        rsi_n3_score = score_func(rsi_n3)\n",
    "    \n",
    "        return rsi_n1_score, rsi_n2_score, rsi_n3_score\n",
    "    \n",
    "\n",
    "    def get_MACD_score(self, ticker:str) -> Tuple[int, int, int]:\n",
    "        \"\"\"\n",
    "        MACD \n",
    "        \"\"\"\n",
    "        def score_func(macd):\n",
    "            if macd > 0: \n",
    "                return 1\n",
    "            else:\n",
    "                return -1\n",
    "\n",
    "        n1, n2, n3 = 7, 28, 91\n",
    "\n",
    "        data = self._get_price_to_now(ticker, ['close'])\n",
    "\n",
    "        macd_series_n1, _, _ = ta.MACD(data['close'], fastperiod=12, slowperiod=26, signalperiod=n1)\n",
    "        macd_series_n2, _, _ = ta.MACD(data['close'], fastperiod=12, slowperiod=26, signalperiod=n2)\n",
    "        macd_series_n3, _, _ = ta.MACD(data['close'], fastperiod=12, slowperiod=26, signalperiod=n3)\n",
    "\n",
    "        macd_n1 = macd_series_n1[-1]\n",
    "        macd_n2 = macd_series_n2[-1]\n",
    "        macd_n3 = macd_series_n3[-1]\n",
    "\n",
    "        macd_n1_score = score_func(macd_n1)\n",
    "        macd_n2_score = score_func(macd_n2)\n",
    "        macd_n3_score = score_func(macd_n3)\n",
    "\n",
    "        return macd_n1_score, macd_n2_score, macd_n3_score\n",
    "\n",
    "\n",
    "    def get_BBANDS_score(self, ticker:str) -> Tuple[int, int, int]:\n",
    "        \"\"\"\n",
    "        BBANDS \n",
    "        \"\"\"\n",
    "        def score_func(upper, lower, price):\n",
    "            if price < lower:\n",
    "                return -1\n",
    "            elif price > upper:\n",
    "                return 1\n",
    "            else:\n",
    "                return 0\n",
    "\n",
    "        n1, n2, n3 = 7, 28, 91\n",
    "\n",
    "        data = self._get_price_to_now(ticker, ['close'])\n",
    "\n",
    "        upper_band_n1, _, lower_band_n1 = ta.BBANDS(data['close'], timeperiod=n1, nbdevup=1, nbdevdn=1)\n",
    "        upper_band_n2, _, lower_band_n2 = ta.BBANDS(data['close'], timeperiod=n2, nbdevup=1, nbdevdn=1)\n",
    "        upper_band_n3, _, lower_band_n3 = ta.BBANDS(data['close'], timeperiod=n3, nbdevup=1, nbdevdn=1)\n",
    "        \n",
    "        upper_n1, lower_n1 = upper_band_n1[-1], lower_band_n1[-1]\n",
    "        upper_n2, lower_n2 = upper_band_n2[-1], lower_band_n2[-1]\n",
    "        upper_n3, lower_n3 = upper_band_n3[-1], lower_band_n3[-1]\n",
    "\n",
    "        bband_n1_score = score_func(upper_n1, lower_n1, data['close'][-1])\n",
    "        bband_n2_score = score_func(upper_n2, lower_n2, data['close'][-1])\n",
    "        bband_n3_score = score_func(upper_n3, lower_n3, data['close'][-1])\n",
    "\n",
    "        return bband_n1_score, bband_n2_score, bband_n3_score\n",
    "    \n",
    "    \n",
    "    def get_STOCH_score(self, ticker:str) -> Tuple[int, int, int]:\n",
    "        \"\"\"\n",
    "        STOCH\n",
    "        \"\"\"\n",
    "\n",
    "        def score_func(slowk):\n",
    "            if slowk < 20:\n",
    "                return -1\n",
    "            elif slowk > 80:\n",
    "                return 1\n",
    "            else:\n",
    "                return 0\n",
    "\n",
    "        n1, n2, n3 = 7, 28, 91\n",
    "\n",
    "        data = self._get_price_to_now(ticker, ['high', 'low', 'close'])\n",
    "\n",
    "        slowk_series_n1, _ = ta.STOCH(data['high'], data['low'], data['close'], \n",
    "                                fastk_period=n1, slowk_period=3, slowd_period=3)\n",
    "        \n",
    "        slowk_series_n2, _ = ta.STOCH(data['high'], data['low'], data['close'], \n",
    "                                fastk_period=n2, slowk_period=3, slowd_period=3)\n",
    "        \n",
    "        slowk_series_n3, _ = ta.STOCH(data['high'], data['low'], data['close'], \n",
    "                                fastk_period=n3, slowk_period=3, slowd_period=3)\n",
    "        \n",
    "        slowk_n1 = slowk_series_n1[-1]\n",
    "        slowk_n2 = slowk_series_n2[-1]\n",
    "        slowk_n3 = slowk_series_n3[-1]\n",
    "\n",
    "        slowk_n1_score = score_func(slowk_n1)\n",
    "        slowk_n2_score = score_func(slowk_n2)\n",
    "        slowk_n3_score = score_func(slowk_n3)\n",
    "\n",
    "        return slowk_n1_score, slowk_n2_score, slowk_n3_score\n",
    "\n",
    "\n",
    "    def get_OBV_score(self, ticker:str) -> Tuple[int, int, int]:\n",
    "        \"\"\"\n",
    "        OBV\n",
    "        \"\"\"\n",
    "\n",
    "        def score_func(obv):\n",
    "            if obv > 0:\n",
    "                return 1\n",
    "            else:\n",
    "                return -1\n",
    "\n",
    "        n1, n2, n3 = 7, 28, 91\n",
    "\n",
    "        data = self._get_price_to_now(ticker, ['close', 'volume'])\n",
    "\n",
    "        obv_series_n1 = ta.OBV(data['close'], data['volume'])\n",
    "        obv_series_n2 = ta.OBV(data['close'], data['volume'])\n",
    "        obv_series_n3 = ta.OBV(data['close'], data['volume'])\n",
    "\n",
    "        obv_n1 = obv_series_n1[-1]\n",
    "        obv_n2 = obv_series_n2[-1]\n",
    "        obv_n3 = obv_series_n3[-1]\n",
    "\n",
    "        obv_n1_score = score_func(obv_n1)\n",
    "        obv_n2_score = score_func(obv_n2)\n",
    "        obv_n3_score = score_func(obv_n3)\n",
    "\n",
    "        return obv_n1_score, obv_n2_score, obv_n3_score\n",
    "\n",
    "\n",
    "    def get_ohlcv_from_now(self, ticker:str, count=100) -> pd.DataFrame:\n",
    "        \"\"\" \n",
    "        현재 시점으로부터 과거 n개의 ohlcv 데이터를 리턴\n",
    "        \"\"\"\n",
    "        \n",
    "        date_ago = datetime.now() - timedelta(days = count + 1)\n",
    "        historical_info = self.get_ohlcv_historical(ticker, start=date_ago)\n",
    "        dataframe = pd.DataFrame([info['quote']['USD'] for info in historical_info])\n",
    "        dataframe = dataframe.set_index('timestamp', drop=True)\n",
    "        return dataframe\n",
    "    \n",
    "\n",
    "    def _get_price_to_now(self, ticker:str, types:list = ['close']) -> pd.DataFrame:\n",
    "        \"\"\"\n",
    "        과거 데이터 + 현재 시점까지의 가격 및 거래량 데이터를 리턴\n",
    "        \"\"\"\n",
    "\n",
    "        # 전일까지의 price dataframe\n",
    "        historical_df = self.historical_data_dict[ticker]\n",
    "        # 현재시점의 price dataframe\n",
    "        realtime_df = self.get_ohlcv_realtime([ticker])\n",
    "        realtime_df = pd.DataFrame([realtime_df[ticker][0]['quote']['USD']])\n",
    "        realtime_df.set_index('last_updated', inplace=True)\n",
    "        # price series  \n",
    "        price = pd.concat([historical_df[types], realtime_df[types]])\n",
    "        return price\n",
    "    \n",
    "    def _get_normalize(self, array:np.array, upper:int=5, lower:int=-5):\n",
    "        \"\"\"\n",
    "        Min-Max normalize으로 upper, lower bounding\n",
    "        \"\"\"\n",
    "        k = upper - lower\n",
    "        d = -lower\n",
    "\n",
    "        if len(array) == 1:\n",
    "            return array\n",
    "\n",
    "        new_array = array.copy()\n",
    "        max_score = np.max(new_array)\n",
    "        min_score = np.min(new_array)\n",
    "\n",
    "        new_array = k * (new_array - min_score) / (max_score - min_score) - d\n",
    "        return new_array"
   ]
  },
  {
   "cell_type": "code",
   "execution_count": 145,
   "metadata": {},
   "outputs": [],
   "source": [
    "indicator = Indicator(CMC_API_KEY)"
   ]
  },
  {
   "cell_type": "code",
   "execution_count": 131,
   "metadata": {},
   "outputs": [
    {
     "data": {
      "text/plain": [
       "1.0"
      ]
     },
     "execution_count": 131,
     "metadata": {},
     "output_type": "execute_result"
    }
   ],
   "source": [
    "indicator.get_RSI_score('BTC')"
   ]
  },
  {
   "cell_type": "code",
   "execution_count": 132,
   "metadata": {},
   "outputs": [
    {
     "data": {
      "text/plain": [
       "0.3333333333333333"
      ]
     },
     "execution_count": 132,
     "metadata": {},
     "output_type": "execute_result"
    }
   ],
   "source": [
    "indicator.get_MACD_score('BTC')"
   ]
  },
  {
   "cell_type": "code",
   "execution_count": 133,
   "metadata": {},
   "outputs": [
    {
     "data": {
      "text/plain": [
       "1.0"
      ]
     },
     "execution_count": 133,
     "metadata": {},
     "output_type": "execute_result"
    }
   ],
   "source": [
    "indicator.get_STOCH_score('BTC')"
   ]
  },
  {
   "cell_type": "code",
   "execution_count": 134,
   "metadata": {},
   "outputs": [
    {
     "data": {
      "text/plain": [
       "1.0"
      ]
     },
     "execution_count": 134,
     "metadata": {},
     "output_type": "execute_result"
    }
   ],
   "source": [
    "indicator.get_OBV_score('BTC')"
   ]
  },
  {
   "cell_type": "code",
   "execution_count": 135,
   "metadata": {},
   "outputs": [
    {
     "data": {
      "text/plain": [
       "0.6666666666666666"
      ]
     },
     "execution_count": 135,
     "metadata": {},
     "output_type": "execute_result"
    }
   ],
   "source": [
    "indicator.get_BBANDS_score('BTC')"
   ]
  },
  {
   "cell_type": "code",
   "execution_count": 146,
   "metadata": {},
   "outputs": [],
   "source": [
    "score_dict = indicator.get_total_score(indicator.tickers[:3])"
   ]
  },
  {
   "cell_type": "code",
   "execution_count": 159,
   "metadata": {},
   "outputs": [
    {
     "data": {
      "text/plain": [
       "(3, 5, 3)"
      ]
     },
     "execution_count": 159,
     "metadata": {},
     "output_type": "execute_result"
    }
   ],
   "source": [
    "score_array = np.array(list(score_dict.values()))\n",
    "score_array.shape"
   ]
  },
  {
   "cell_type": "code",
   "execution_count": 167,
   "metadata": {},
   "outputs": [
    {
     "data": {
      "text/plain": [
       "array([ 1. ,  0.8, -0.4])"
      ]
     },
     "execution_count": 167,
     "metadata": {},
     "output_type": "execute_result"
    }
   ],
   "source": [
    "mean_score_n1 = np.mean(score_array[:,:,0], axis=-1)\n",
    "mean_score_n2 = np.mean(score_array[:,:,1], axis=-1)\n",
    "mean_score_n3 = np.mean(score_array[:,:,2], axis=-1)"
   ]
  },
  {
   "cell_type": "code",
   "execution_count": 189,
   "metadata": {},
   "outputs": [
    {
     "data": {
      "text/plain": [
       "array([0.46666667, 0.46666667, 0.2       ])"
      ]
     },
     "execution_count": 189,
     "metadata": {},
     "output_type": "execute_result"
    }
   ],
   "source": [
    "np.mean([mean_score_n1, mean_score_n2, mean_score_n3], axis=-1)"
   ]
  }
 ],
 "metadata": {
  "kernelspec": {
   "display_name": "factor",
   "language": "python",
   "name": "python3"
  },
  "language_info": {
   "codemirror_mode": {
    "name": "ipython",
    "version": 3
   },
   "file_extension": ".py",
   "mimetype": "text/x-python",
   "name": "python",
   "nbconvert_exporter": "python",
   "pygments_lexer": "ipython3",
   "version": "3.11.5"
  },
  "orig_nbformat": 4,
  "vscode": {
   "interpreter": {
    "hash": "f51e0da3e3d90447dcadba55e0cb4a38546033c4e076c9d4b80673409e62cb43"
   }
  }
 },
 "nbformat": 4,
 "nbformat_minor": 2
}
