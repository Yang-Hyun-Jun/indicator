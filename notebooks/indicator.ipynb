{
 "cells": [
  {
   "cell_type": "code",
   "execution_count": 1,
   "metadata": {},
   "outputs": [
    {
     "name": "stdout",
     "output_type": "stream",
     "text": [
      "/home/hyunjun/workspace/technical_indicator\n"
     ]
    }
   ],
   "source": [
    "cd .."
   ]
  },
  {
   "cell_type": "code",
   "execution_count": 2,
   "metadata": {},
   "outputs": [],
   "source": [
    "import talib as ta\n",
    "import pandas as pd\n",
    "\n",
    "from coinmarketcap_dataloader import CoinMarketCap\n",
    "from coinmarketcap_dataloader import CMC_API_KEY"
   ]
  },
  {
   "attachments": {},
   "cell_type": "markdown",
   "metadata": {},
   "source": [
    "### Indicator Module\n",
    "\n",
    "- for loop을 계속 돌리면 api error가 발생해서 time sleep을 넣음 <br>\n",
    "- 전일까지의 historical data 일부는 멤버변수에 할당해놓고 사용하는 형태로 구현 <br>\n",
    "- 각 지표의 기간별 값을 ticker key를 갖는 dict으로 리턴: value_dict <br>\n",
    "- 각 지표의 기간별 스코어를 ticker key를 갖는 dict으로 리턴: score_dict <br> "
   ]
  },
  {
   "cell_type": "code",
   "execution_count": 57,
   "metadata": {},
   "outputs": [],
   "source": [
    "import time \n",
    "import numpy as np\n",
    "import talib as ta\n",
    "\n",
    "from tqdm import tqdm\n",
    "from typing import Tuple\n",
    "from datetime import datetime\n",
    "from datetime import timedelta\n",
    "\n",
    "\n",
    "class Indicator(CoinMarketCap):\n",
    "    PERIODS = [\n",
    "        7, 28, 91]\n",
    "\n",
    "    SCORE_NAMES = [\n",
    "        '7_period_score', \n",
    "        '28_period_score', \n",
    "        '91_period_score', \n",
    "        'mean_score'\n",
    "        ]\n",
    "\n",
    "    INDICATOR_NAMES = [\n",
    "        'RSI', 'MACD', \n",
    "        'BBANDS', 'STOCH', \n",
    "        'OBV']\n",
    "\n",
    "\n",
    "    def __init__(self, API_KEY):\n",
    "        super().__init__(API_KEY)\n",
    "\n",
    "        self.tickers:list = None\n",
    "        self.historical_data_dict:dict = {}\n",
    "\n",
    "        self.update_tickers()\n",
    "\n",
    "\n",
    "    def get_total_score(self, tickers:list) -> Tuple[dict, dict]:\n",
    "        \"\"\"\n",
    "        입력 ticker들에 대한 total score list를 리턴\n",
    "\n",
    "        [value_dict]\n",
    "        {'BTC': {'RSI': [53., 65., 62.],\n",
    "                'MACD': [1317., 3107., 3222.],\n",
    "                'BBANDS': [22., 88., 95.],\n",
    "                'STOCH': [-2., 1., 1.],\n",
    "                'OBV': [71681935600., 71681935600., 71681935600.]},\n",
    "\n",
    "        'USDT': {'RSI': [51., 50., 50.],\n",
    "                'MACD': [-5.6, 1.5, -4.],\n",
    "                'BBANDS': [58., 53., 49.],\n",
    "                'STOCH': [0., 0., 0.],\n",
    "                'OBV': [-610460727736., -610460727736., -610460727736.]},\n",
    "\n",
    "        'ETH': {'RSI': [50., 60., 57.],\n",
    "                'MACD': [61., 138., 85.3873846637475],\n",
    "                'BBANDS': [23., 85., 91.],\n",
    "                'STOCH': [-1., 0., 1.],\n",
    "                'OBV': [102378389016.81, 102378389016.81, 102378389016.81]}}\n",
    "        \n",
    "\n",
    "        [score_dict]\n",
    "        {'BTC': {'7_period_score': 1.0,\n",
    "                '28_period_score': 4.0,\n",
    "                '91_period_score': 4.0,\n",
    "                'mean_score': 3.0},\n",
    "\n",
    "        'USDT': {'7_period_score': -2.0,\n",
    "                '28_period_score': 0.0,\n",
    "                '91_period_score': -2.0,\n",
    "                'mean_score': -1.333},\n",
    "\n",
    "        'ETH': {'7_period_score': 1.0,\n",
    "                '28_period_score': 3.0,\n",
    "                '91_period_score': 4.0,\n",
    "                'mean_score': 2.667}}\n",
    "        \"\"\"\n",
    "\n",
    "    \n",
    "        tickers = set(tickers).intersection(\n",
    "            set(self.historical_data_dict.keys())\n",
    "        )\n",
    "\n",
    "        indicator_func = [\n",
    "            self.get_RSI,\n",
    "            self.get_MACD,\n",
    "            self.get_STOCH,\n",
    "            self.get_BBANDS,\n",
    "            self.get_OBV,\n",
    "        ]\n",
    "\n",
    "        scoring_func = [\n",
    "            self.get_RSI_score,\n",
    "            self.get_MACD_score,\n",
    "            self.get_STOCH_score,\n",
    "            self.get_BBANDS_score,\n",
    "            self.get_OBV_score,\n",
    "        ]\n",
    "\n",
    "        # 모든 ticker의 지표별, 기간별 indicator 값에 대한 어레이\n",
    "        value_array = [ [func(ticker) for func in indicator_func] for ticker in tqdm(tickers) ]\n",
    "\n",
    "        # ticker : {indicator: [values1, values2, ...]}\n",
    "        value_dict = {ticker: {name:value for name, value in zip(self.INDICATOR_NAMES, values)} \\\n",
    "            for ticker, values in zip(tickers, value_array)}\n",
    "\n",
    "        # 모든 ticker의 지표별, 기간별 score 값에 대한 어레이\n",
    "        score_array = np.array([ [func(values) for func, values in zip(scoring_func, value_dict[ticker].values())] \\\n",
    "            for ticker in tickers ])\n",
    "\n",
    "        # 모든 지표에 대해서 합하여 기간별 score 산출\n",
    "        score_array_sum = np.sum(score_array, axis=1)\n",
    "        # 기간별 score와 기간별 score의 평균을 묶어서 최종 score 배열로 \n",
    "        score_array_total = np.concatenate([score_array_sum, np.mean(score_array_sum, axis=-1)[:,np.newaxis]], axis=1)\n",
    "        score_array_total = np.round(score_array_total, decimals=3)\n",
    "\n",
    "        # ticker: {period: score}\n",
    "        score_dict = {ticker: {name:score for name, score in zip(self.SCORE_NAMES, score_list)} \\\n",
    "            for ticker, score_list in zip(tickers, score_array_total)}\n",
    "    \n",
    "        return value_dict, score_dict\n",
    "\n",
    "\n",
    "    def get_RSI(self, ticker:str) -> list:\n",
    "        \"\"\"\n",
    "        Period별 RSI\n",
    "        \"\"\"\n",
    "        time.sleep(0.5)\n",
    "        data = self._get_price_to_now(ticker, ['close'])\n",
    "        return [ta.RSI(data['close'].to_numpy(), n)[-1] for n in self.PERIODS]\n",
    "\n",
    "    \n",
    "    def get_MACD(self, ticker:str) -> list:\n",
    "        \"\"\"\n",
    "        Period별 MACD \n",
    "        \"\"\"\n",
    "        time.sleep(0.5)\n",
    "        data = self._get_price_to_now(ticker, ['close'])\n",
    "        return [ta.MACD(data['close'].to_numpy(), fastperiod=n, slowperiod=int((26/12)*n), signalperiod=int((9/12)*n))[0][-1] for n in self.PERIODS]\n",
    "\n",
    "\n",
    "    def get_BBANDS(self, ticker:str) -> list:\n",
    "        \"\"\"\n",
    "        Period별 BBANDS \n",
    "        \"\"\"\n",
    "        time.sleep(0.5)\n",
    "        data = self._get_price_to_now(ticker, ['close'])\n",
    "\n",
    "        return [(data['close'][-1] - ta.SMA(data['close'].to_numpy(), timeperiod=n)[-1]) / \\\n",
    "         ta.STDDEV(data['close'].to_numpy(), timeperiod=n)[-1] for n in self.PERIODS]\n",
    "\n",
    "    \n",
    "    def get_STOCH(self, ticker:str) -> list:\n",
    "        \"\"\"\n",
    "        Period별 STOCH\n",
    "        \"\"\"\n",
    "\n",
    "        time.sleep(0.5)\n",
    "        data = self._get_price_to_now(ticker, ['high', 'low', 'close'])\n",
    "        \n",
    "        return [ta.STOCH(data['high'].to_numpy(), data['low'].to_numpy(), data['close'].to_numpy(), \n",
    "                         fastk_period=n, slowk_period=int((3/14)*n), slowd_period=int((3/14)*n))[0][-1] for n in self.PERIODS]\n",
    "    \n",
    "\n",
    "    def get_OBV(self, ticker:str) -> list:\n",
    "        \"\"\"\n",
    "        Period별 OBV\n",
    "        \"\"\"\n",
    "\n",
    "        time.sleep(0.5)\n",
    "        data = self._get_price_to_now(ticker, ['close', 'volume'])\n",
    "\n",
    "        return [ta.OBV(data['close'].to_numpy(), data['volume'].to_numpy())[-1] for n in self.PERIODS]\n",
    "\n",
    "\n",
    "    def get_RSI_score(self, rsi_values:list):\n",
    "        \"\"\"\n",
    "        RSI 지표 스코어 기준\n",
    "        \"\"\"\n",
    "        def score_func(rsi):\n",
    "            if rsi < 30: \n",
    "                return -1\n",
    "            elif rsi > 70:\n",
    "                return 1\n",
    "            else: \n",
    "                return 0\n",
    "            \n",
    "        return list(map(score_func, rsi_values))\n",
    "    \n",
    "\n",
    "    def get_MACD_score(self, macd_values:list):\n",
    "        \"\"\" \n",
    "        MACD 지표 스코어 기준\n",
    "        \"\"\"\n",
    "        def score_func(macd):\n",
    "            if macd > 0: \n",
    "                return 1\n",
    "            else:\n",
    "                return -1\n",
    "            \n",
    "        return list(map(score_func, macd_values))\n",
    "        \n",
    "\n",
    "    def get_BBANDS_score(self, distance_values:list):\n",
    "        \"\"\"\n",
    "        BBANDS 지표 스코어 기준\n",
    "        \"\"\"\n",
    "        def score_func(distance):\n",
    "            if distance < -1:\n",
    "                return -1\n",
    "            elif distance > 1:\n",
    "                return 1\n",
    "            else:\n",
    "                return 0\n",
    "        \n",
    "        return list(map(score_func, distance_values))\n",
    "\n",
    "\n",
    "    def get_STOCH_score(self, slowk_values:list):\n",
    "        \"\"\"\n",
    "        STOCH 지표 스코어 기준\n",
    "        \"\"\"\n",
    "        def score_func(slowk):\n",
    "            if slowk < 20:\n",
    "                return -1\n",
    "            elif slowk > 80:\n",
    "                return 1\n",
    "            else:\n",
    "                return 0\n",
    "            \n",
    "        return list(map(score_func, slowk_values))\n",
    "    \n",
    "\n",
    "    def get_OBV_score(self, obv_values:list):\n",
    "        \"\"\" \n",
    "        OBV 지표 스코어 기준\n",
    "        \"\"\"\n",
    "        def score_func(obv):\n",
    "            if obv > 0:\n",
    "                return 1\n",
    "            else:\n",
    "                return -1\n",
    "            \n",
    "        return list(map(score_func, obv_values))\n",
    "\n",
    "\n",
    "    def update_tickers(self):\n",
    "        \"\"\"\n",
    "        Ticker List를 멤버변수 self.tickers에 저장\n",
    "        \"\"\"\n",
    "        ticker_infos = self.get_all_listings()\n",
    "        tickers = [info['symbol'] for info in ticker_infos]\n",
    "        self.tickers = list( map(lambda x:x.upper(), tickers) )\n",
    "\n",
    "\n",
    "    def update_historical_data_frame(self, tickers:list=None):\n",
    "        \"\"\"\n",
    "        Ticker 과거 데이터를 멤버변수 self.historical_data_frame에 저장\n",
    "        \"\"\"\n",
    "\n",
    "        tickers = self.tickers if tickers is None else tickers\n",
    "\n",
    "        for ticker in tqdm(tickers):\n",
    "            \n",
    "            try: \n",
    "                time.sleep(0.5)\n",
    "                self.historical_data_dict.update({ticker:self.get_ohlcv_n(ticker)})\n",
    "            except:\n",
    "                try:\n",
    "                    time.sleep(3.0)\n",
    "                    self.historical_data_dict.update({ticker:self.get_ohlcv_n(ticker)})\n",
    "                except:\n",
    "                    continue\n",
    "\n",
    "\n",
    "    def get_ohlcv_n(self, ticker:str, n=300) -> pd.DataFrame:\n",
    "        \"\"\" \n",
    "        현재 시점으로부터 과거 n개의 ohlcv 데이터를 리턴\n",
    "        \"\"\"\n",
    "\n",
    "        date_ago = datetime.now() - timedelta(days = n + 1)\n",
    "        historical_info = self.get_ohlcv_historical(ticker, start=date_ago)\n",
    "        dataframe = pd.DataFrame([info['quote']['USD'] for info in historical_info])\n",
    "        dataframe = dataframe.set_index('timestamp', drop=True)\n",
    "        return dataframe\n",
    "    \n",
    "\n",
    "    def _get_price_to_now(self, ticker:str, types:list = ['close']) -> pd.DataFrame:\n",
    "        \"\"\"\n",
    "        과거 데이터 + 현재 시점까지의 가격 및 거래량 데이터를 리턴\n",
    "        \"\"\"\n",
    "\n",
    "        # 전일까지의 price dataframe\n",
    "        historical_df = self.historical_data_dict[ticker]\n",
    "    \n",
    "        try:\n",
    "            # 현재시점의 price dataframe\n",
    "            realtime_df = self.get_ohlcv_realtime([ticker])\n",
    "            realtime_df = pd.DataFrame([realtime_df[ticker][0]['quote']['USD']])\n",
    "            realtime_df.set_index('last_updated', inplace=True)\n",
    "            # price series  \n",
    "            price = pd.concat([historical_df[types], realtime_df[types]])\n",
    "        \n",
    "        except:\n",
    "            price = historical_df[types] \n",
    "\n",
    "        return price\n",
    "    \n",
    "\n",
    "    def _get_normalize(self, array:np.array, upper:int=5, lower:int=-5):\n",
    "        \"\"\"\n",
    "        Min-Max normalize으로 upper, lower bounding\n",
    "        \"\"\"\n",
    "        k = upper - lower\n",
    "        d = -lower\n",
    "\n",
    "        new_array = array.copy()\n",
    "        max_score = np.max(new_array)\n",
    "        min_score = np.min(new_array)\n",
    "\n",
    "        if len(array) == 1:\n",
    "            return new_array\n",
    "        \n",
    "        if max_score == min_score:\n",
    "            return new_array\n",
    "    \n",
    "        new_array = k * (new_array - min_score) / (max_score - min_score) - d\n",
    "        return new_array"
   ]
  },
  {
   "cell_type": "code",
   "execution_count": 58,
   "metadata": {},
   "outputs": [],
   "source": [
    "indicator = Indicator(CMC_API_KEY)"
   ]
  },
  {
   "cell_type": "code",
   "execution_count": 59,
   "metadata": {},
   "outputs": [],
   "source": [
    "tickers = indicator.tickers[:20]"
   ]
  },
  {
   "attachments": {},
   "cell_type": "markdown",
   "metadata": {},
   "source": [
    "#### 전일까지의 과거 데이터 ticker 별로 멤버변수에 저장"
   ]
  },
  {
   "cell_type": "code",
   "execution_count": 60,
   "metadata": {},
   "outputs": [
    {
     "name": "stderr",
     "output_type": "stream",
     "text": [
      "100%|██████████| 20/20 [00:37<00:00,  1.86s/it]\n"
     ]
    }
   ],
   "source": [
    "indicator.update_historical_data_frame(tickers)"
   ]
  },
  {
   "cell_type": "code",
   "execution_count": null,
   "metadata": {},
   "outputs": [],
   "source": [
    "indicator.historical_data_dict"
   ]
  },
  {
   "attachments": {},
   "cell_type": "markdown",
   "metadata": {},
   "source": [
    "#### 기간별 지표값 가져오기"
   ]
  },
  {
   "cell_type": "code",
   "execution_count": 49,
   "metadata": {},
   "outputs": [
    {
     "data": {
      "text/plain": [
       "[-1.325520158305755, 0.9572029358294872, 1.7303523568343402]"
      ]
     },
     "execution_count": 49,
     "metadata": {},
     "output_type": "execute_result"
    }
   ],
   "source": [
    "indicator.get_BBANDS('ETH')"
   ]
  },
  {
   "cell_type": "code",
   "execution_count": 50,
   "metadata": {},
   "outputs": [
    {
     "data": {
      "text/plain": [
       "[50.60142852780077, 60.79751534106993, 57.37798574125299]"
      ]
     },
     "execution_count": 50,
     "metadata": {},
     "output_type": "execute_result"
    }
   ],
   "source": [
    "indicator.get_RSI('ETH')"
   ]
  },
  {
   "cell_type": "code",
   "execution_count": 51,
   "metadata": {},
   "outputs": [
    {
     "data": {
      "text/plain": [
       "[62.021698708510485, 138.34168173938133, 85.4144351824009]"
      ]
     },
     "execution_count": 51,
     "metadata": {},
     "output_type": "execute_result"
    }
   ],
   "source": [
    "indicator.get_MACD('ETH')"
   ]
  },
  {
   "cell_type": "code",
   "execution_count": 52,
   "metadata": {},
   "outputs": [
    {
     "data": {
      "text/plain": [
       "[50.60142852780077, 60.79751534106993, 57.37798574125299]"
      ]
     },
     "execution_count": 52,
     "metadata": {},
     "output_type": "execute_result"
    }
   ],
   "source": [
    "indicator.get_RSI('ETH')"
   ]
  },
  {
   "cell_type": "code",
   "execution_count": 53,
   "metadata": {},
   "outputs": [
    {
     "data": {
      "text/plain": [
       "[24.963555076605946, 85.9971588008767, 91.16082106847753]"
      ]
     },
     "execution_count": 53,
     "metadata": {},
     "output_type": "execute_result"
    }
   ],
   "source": [
    "indicator.get_STOCH('ETH')"
   ]
  },
  {
   "cell_type": "code",
   "execution_count": 54,
   "metadata": {},
   "outputs": [
    {
     "data": {
      "text/plain": [
       "[102331450380.84999, 102331450380.84999, 102331450380.84999]"
      ]
     },
     "execution_count": 54,
     "metadata": {},
     "output_type": "execute_result"
    }
   ],
   "source": [
    "indicator.get_OBV('ETH')"
   ]
  },
  {
   "attachments": {},
   "cell_type": "markdown",
   "metadata": {},
   "source": [
    "### 기간별 score 가져오기"
   ]
  },
  {
   "cell_type": "code",
   "execution_count": 62,
   "metadata": {},
   "outputs": [
    {
     "data": {
      "text/plain": [
       "[0, 0, 0]"
      ]
     },
     "execution_count": 62,
     "metadata": {},
     "output_type": "execute_result"
    }
   ],
   "source": [
    "indicator.get_RSI_score(indicator.get_RSI('ETH'))"
   ]
  },
  {
   "cell_type": "code",
   "execution_count": 63,
   "metadata": {},
   "outputs": [
    {
     "data": {
      "text/plain": [
       "[1, 1, 1]"
      ]
     },
     "execution_count": 63,
     "metadata": {},
     "output_type": "execute_result"
    }
   ],
   "source": [
    "indicator.get_MACD_score(indicator.get_MACD('ETH'))"
   ]
  },
  {
   "cell_type": "code",
   "execution_count": 64,
   "metadata": {},
   "outputs": [
    {
     "data": {
      "text/plain": [
       "[0, 1, 1]"
      ]
     },
     "execution_count": 64,
     "metadata": {},
     "output_type": "execute_result"
    }
   ],
   "source": [
    "indicator.get_STOCH_score(indicator.get_STOCH('ETH'))"
   ]
  },
  {
   "cell_type": "code",
   "execution_count": 65,
   "metadata": {},
   "outputs": [
    {
     "data": {
      "text/plain": [
       "[-1, 0, 1]"
      ]
     },
     "execution_count": 65,
     "metadata": {},
     "output_type": "execute_result"
    }
   ],
   "source": [
    "indicator.get_BBANDS_score(indicator.get_BBANDS('ETH'))"
   ]
  },
  {
   "cell_type": "code",
   "execution_count": 66,
   "metadata": {},
   "outputs": [
    {
     "data": {
      "text/plain": [
       "[1, 1, 1]"
      ]
     },
     "execution_count": 66,
     "metadata": {},
     "output_type": "execute_result"
    }
   ],
   "source": [
    "indicator.get_OBV_score(indicator.get_OBV('ETH'))"
   ]
  },
  {
   "attachments": {},
   "cell_type": "markdown",
   "metadata": {},
   "source": [
    "#### ticker 여러개를 받아서 지표값, 스코어 받기"
   ]
  },
  {
   "cell_type": "code",
   "execution_count": 67,
   "metadata": {},
   "outputs": [
    {
     "name": "stderr",
     "output_type": "stream",
     "text": [
      "100%|██████████| 20/20 [01:29<00:00,  4.46s/it]\n"
     ]
    }
   ],
   "source": [
    "value_dict, score_dict = indicator.get_total_score(tickers)"
   ]
  },
  {
   "cell_type": "code",
   "execution_count": 68,
   "metadata": {},
   "outputs": [
    {
     "data": {
      "text/plain": [
       "{'XRP': {'RSI': [44.219850813218656, 52.9969195182769, 53.274324298111964],\n",
       "  'MACD': [0.007825819692580893, 0.021294226289424456, 0.040318311628521286],\n",
       "  'BBANDS': [21.44949128375308, 46.246858369311525, 58.651159270426746],\n",
       "  'STOCH': [-1.0680210802201364, 0.23653801391105767, 0.9196777365602791],\n",
       "  'OBV': [15648854178.909979, 15648854178.909979, 15648854178.909979]},\n",
       " 'DOT': {'RSI': [68.48480516490453, 67.07838327822674, 58.36447492784368],\n",
       "  'MACD': [0.4597227789082421, 0.5193626868831362, -0.019057894137955778],\n",
       "  'BBANDS': [62.344895022635, 87.22065308079505, 82.9062566164687],\n",
       "  'STOCH': [0.46334000762357574, 1.903469881994597, 2.6093559305676686],\n",
       "  'OBV': [2162550334.080001, 2162550334.080001, 2162550334.080001]},\n",
       " 'USDT': {'RSI': [47.866175654646746, 49.24280331954433, 49.987337100229006],\n",
       "  'MACD': [-2.650630665268494e-05,\n",
       "   1.1466847349428377e-05,\n",
       "   -5.016422685022448e-05],\n",
       "  'BBANDS': [48.30623871315316, 52.48087827669915, 48.79107928447006],\n",
       "  'STOCH': [-0.46870901248350255, -0.6978645849357996, -0.3656591748565804],\n",
       "  'OBV': [-610052189156.4097, -610052189156.4097, -610052189156.4097]},\n",
       " 'USDC': {'RSI': [54.35220330101448, 51.36616130957701, 50.19385719177608],\n",
       "  'MACD': [3.4922360075517744e-05,\n",
       "   -6.614113410297051e-06,\n",
       "   7.371978876236085e-05],\n",
       "  'BBANDS': [56.99797829629896, 60.96741823114632, 41.29624111336903],\n",
       "  'STOCH': [0.15946820274691714, 0.896499554457899, 0.4371995985197765],\n",
       "  'OBV': [-20350408169.7, -20350408169.7, -20350408169.7]},\n",
       " 'ATOM': {'RSI': [55.21832278252092, 59.55230381217754, 53.455938492208745],\n",
       "  'MACD': [0.28989350337882946, 0.6548790686177348, -0.35420569031792226],\n",
       "  'BBANDS': [34.24310075205236, 74.15630878478949, 77.90767266640057],\n",
       "  'STOCH': [-0.20150833367821178, 1.1336023664210975, 1.7066848086713289],\n",
       "  'OBV': [2284473574.0100007, 2284473574.0100007, 2284473574.0100007]},\n",
       " 'LINK': {'RSI': [42.362413832269155, 56.512343446588176, 58.64898116012509],\n",
       "  'MACD': [0.29222964941152263, 1.7057698587521148, 2.0999650749358914],\n",
       "  'BBANDS': [15.901122185629733, 73.54726116197328, 86.92483125902488],\n",
       "  'STOCH': [-1.4072741808070732, 0.16709645873087461, 1.1654792200817499],\n",
       "  'OBV': [11753682286.439999, 11753682286.439999, 11753682286.439999]},\n",
       " 'TON': {'RSI': [25.02558358545748, 44.92870738382246, 50.75049263240332],\n",
       "  'MACD': [-0.0432868004838487, 0.06886639070060863, 0.0897608345688714],\n",
       "  'BBANDS': [22.634035034246246, 24.023466251247232, 66.7498091095727],\n",
       "  'STOCH': [-2.03534992458633, -3.254828888974036, -0.5585948891131636],\n",
       "  'OBV': [326519339.5400002, 326519339.5400002, 326519339.5400002]},\n",
       " 'DAI': {'RSI': [50.88887498245488, 50.08747978981134, 49.993450105347605],\n",
       "  'MACD': [-7.706907365623294e-07,\n",
       "   -2.020862199192397e-05,\n",
       "   0.00011303869145407042],\n",
       "  'BBANDS': [71.19696752507367, 58.94865920801868, 59.764520792629284],\n",
       "  'STOCH': [0.16508415982523345, 0.0740927305169085, -0.036151220806683655],\n",
       "  'OBV': [-1096642891.0999997, -1096642891.0999997, -1096642891.0999997]},\n",
       " 'ETH': {'RSI': [50.88574189429873, 60.90456122571195, 57.41675634996339],\n",
       "  'MACD': [62.25911660429256, 138.41039737682627, 85.43653996672515],\n",
       "  'BBANDS': [25.865495090570178, 86.0615893977482, 91.17219987654543],\n",
       "  'STOCH': [-1.3026952532802791, 0.9705747345524971, 1.7379915913412076],\n",
       "  'OBV': [102307632899.76999, 102307632899.76999, 102307632899.76999]},\n",
       " 'MATIC': {'RSI': [56.27885468209865, 58.71066239879207, 53.386032706165],\n",
       "  'MACD': [0.027564931690369, 0.05908357980517087, -0.039493134055924695],\n",
       "  'BBANDS': [50.70772868580758, 58.28520873338173, 65.00303682249887],\n",
       "  'STOCH': [0.03310727070909246, 0.8748081834933098, 1.4822081673532435],\n",
       "  'OBV': [3481452846.2099977, 3481452846.2099977, 3481452846.2099977]},\n",
       " 'AVAX': {'RSI': [88.89838832379449, 80.65881031314966, 69.93625236187772],\n",
       "  'MACD': [3.9053431696409078, 4.597923853246229, 1.8070624779016793],\n",
       "  'BBANDS': [89.93171224993341, 93.00885625251384, 85.51781709104462],\n",
       "  'STOCH': [1.2492899740346868, 2.676407974834364, 3.2135679605668224],\n",
       "  'OBV': [17849687831.18, 17849687831.18, 17849687831.18]},\n",
       " 'TRX': {'RSI': [47.147891264203906, 55.59972145729437, 57.05039465228327],\n",
       "  'MACD': [0.0007368914374640545, 0.0040711710316415906, 0.008711014848482482],\n",
       "  'BBANDS': [30.29334478199234, 66.34578010354586, 80.37129599802624],\n",
       "  'STOCH': [-0.7133328437714103, 0.28427404532457684, 1.17365451448746],\n",
       "  'OBV': [8373018927.900004, 8373018927.900004, 8373018927.900004]},\n",
       " 'DOGE': {'RSI': [70.21344777169288, 67.28121026557136, 58.72830756823605],\n",
       "  'MACD': [0.005125354603728122, 0.007543693339637711, 0.002358657167385883],\n",
       "  'BBANDS': [66.39888595051596, 80.7807950726661, 83.67805195701514],\n",
       "  'STOCH': [0.5247634262309506, 1.684385024572713, 2.511652388700661],\n",
       "  'OBV': [10757536340.000002, 10757536340.000002, 10757536340.000002]},\n",
       " 'LTC': {'RSI': [49.01969822847359, 53.54110628695036, 49.6162635331205],\n",
       "  'MACD': [1.2585544801493995, 1.5123357328211426, -3.8866644745184544],\n",
       "  'BBANDS': [27.532594720721026, 75.50348020337236, 74.702500563645],\n",
       "  'STOCH': [-0.7596455376034287, 0.7570605789539319, 1.3190589879729628],\n",
       "  'OBV': [4202637887.3200026, 4202637887.3200026, 4202637887.3200026]},\n",
       " 'ADA': {'RSI': [77.09448835935694, 74.97844081997293, 64.72389735835577],\n",
       "  'MACD': [0.051103473579033554, 0.0533382268104412, 0.01712319773998877],\n",
       "  'BBANDS': [66.77411617630105, 85.39002674569917, 89.1937364703332],\n",
       "  'STOCH': [0.710967568812748, 2.183489721087685, 2.963705850059327],\n",
       "  'OBV': [4715648708.049998, 4715648708.049998, 4715648708.049998]},\n",
       " 'BNB': {'RSI': [48.34731807031424, 50.65856833681133, 49.32870629105777],\n",
       "  'MACD': [0.8591508469833684, 2.2399552967876275, -14.751124135492773],\n",
       "  'BBANDS': [31.01956265513207, 25.64920897004745, 42.79007029945281],\n",
       "  'STOCH': [-0.33666321571372704, -0.2800985897849052, 0.6056822831192392],\n",
       "  'OBV': [7333003725.569996, 7333003725.569996, 7333003725.569996]},\n",
       " 'SHIB': {'RSI': [61.41294191472091, 61.20283313560322, 53.62530110906572],\n",
       "  'MACD': [4.2341100139910375e-07,\n",
       "   4.87754203038439e-07,\n",
       "   -2.7177736929723916e-07],\n",
       "  'BBANDS': [57.036098423556716, 79.8157289373421, 70.17883890084288],\n",
       "  'STOCH': [-inf, inf, inf],\n",
       "  'OBV': [4482728261.6100025, 4482728261.6100025, 4482728261.6100025]},\n",
       " 'BTC': {'RSI': [53.91467471321408, 65.24304418010217, 62.38072511781979],\n",
       "  'MACD': [1319.8670828727409, 3107.9431931442596, 3223.151038937678],\n",
       "  'BBANDS': [80.41379355047063, 92.1140627404717, 95.89727156058663],\n",
       "  'STOCH': [0.3499952397534949, 1.7104095173029419, 2.019130768364288],\n",
       "  'OBV': [93639494687.13982, 93639494687.13982, 93639494687.13982]},\n",
       " 'BCH': {'RSI': [68.5324319791869, 57.97380311811059, 54.54803638084391],\n",
       "  'MACD': [6.2575127961853525, 3.935980149922557, 24.018424766546644],\n",
       "  'BBANDS': [64.59421231855443, 75.15341432002059, 61.78727643666326],\n",
       "  'STOCH': [0.23659068831242086, 1.6528213095405173, 1.4280007779553998],\n",
       "  'OBV': [6325242933.4000025, 6325242933.4000025, 6325242933.4000025]},\n",
       " 'SOL': {'RSI': [75.98584929367566, 69.00805111490038, 65.60000904811201],\n",
       "  'MACD': [4.295469430860393, 9.84160205155056, 9.846602324357981],\n",
       "  'BBANDS': [84.67970223472376, 85.1788784506059, 85.6479988570193],\n",
       "  'STOCH': [0.2592745409743243, 1.5674218873104202, 1.786503371071],\n",
       "  'OBV': [26996526049.11001, 26996526049.11001, 26996526049.11001]}}"
      ]
     },
     "execution_count": 68,
     "metadata": {},
     "output_type": "execute_result"
    }
   ],
   "source": [
    "value_dict"
   ]
  },
  {
   "cell_type": "code",
   "execution_count": 69,
   "metadata": {},
   "outputs": [
    {
     "data": {
      "text/plain": [
       "{'XRP': {'7_period_score': 1.0,\n",
       "  '28_period_score': 2.0,\n",
       "  '91_period_score': 2.0,\n",
       "  'mean_score': 1.667},\n",
       " 'DOT': {'7_period_score': 2.0,\n",
       "  '28_period_score': 4.0,\n",
       "  '91_period_score': 2.0,\n",
       "  'mean_score': 2.667},\n",
       " 'USDT': {'7_period_score': -2.0,\n",
       "  '28_period_score': 0.0,\n",
       "  '91_period_score': -2.0,\n",
       "  'mean_score': -1.333},\n",
       " 'USDC': {'7_period_score': 0.0,\n",
       "  '28_period_score': -2.0,\n",
       "  '91_period_score': 0.0,\n",
       "  'mean_score': -0.667},\n",
       " 'ATOM': {'7_period_score': 2.0,\n",
       "  '28_period_score': 3.0,\n",
       "  '91_period_score': 1.0,\n",
       "  'mean_score': 2.0},\n",
       " 'LINK': {'7_period_score': 0.0,\n",
       "  '28_period_score': 2.0,\n",
       "  '91_period_score': 4.0,\n",
       "  'mean_score': 2.0},\n",
       " 'TON': {'7_period_score': -2.0,\n",
       "  '28_period_score': 1.0,\n",
       "  '91_period_score': 2.0,\n",
       "  'mean_score': 0.333},\n",
       " 'DAI': {'7_period_score': -2.0,\n",
       "  '28_period_score': -2.0,\n",
       "  '91_period_score': 0.0,\n",
       "  'mean_score': -1.333},\n",
       " 'ETH': {'7_period_score': 1.0,\n",
       "  '28_period_score': 3.0,\n",
       "  '91_period_score': 4.0,\n",
       "  'mean_score': 2.667},\n",
       " 'MATIC': {'7_period_score': 2.0,\n",
       "  '28_period_score': 2.0,\n",
       "  '91_period_score': 1.0,\n",
       "  'mean_score': 1.667},\n",
       " 'AVAX': {'7_period_score': 5.0,\n",
       "  '28_period_score': 5.0,\n",
       "  '91_period_score': 4.0,\n",
       "  'mean_score': 4.667},\n",
       " 'TRX': {'7_period_score': 2.0,\n",
       "  '28_period_score': 2.0,\n",
       "  '91_period_score': 4.0,\n",
       "  'mean_score': 2.667},\n",
       " 'DOGE': {'7_period_score': 3.0,\n",
       "  '28_period_score': 4.0,\n",
       "  '91_period_score': 4.0,\n",
       "  'mean_score': 3.667},\n",
       " 'LTC': {'7_period_score': 2.0,\n",
       "  '28_period_score': 2.0,\n",
       "  '91_period_score': 1.0,\n",
       "  'mean_score': 1.667},\n",
       " 'ADA': {'7_period_score': 3.0,\n",
       "  '28_period_score': 5.0,\n",
       "  '91_period_score': 4.0,\n",
       "  'mean_score': 4.0},\n",
       " 'BNB': {'7_period_score': 2.0,\n",
       "  '28_period_score': 2.0,\n",
       "  '91_period_score': 0.0,\n",
       "  'mean_score': 1.333},\n",
       " 'SHIB': {'7_period_score': 1.0,\n",
       "  '28_period_score': 3.0,\n",
       "  '91_period_score': 1.0,\n",
       "  'mean_score': 1.667},\n",
       " 'BTC': {'7_period_score': 3.0,\n",
       "  '28_period_score': 4.0,\n",
       "  '91_period_score': 4.0,\n",
       "  'mean_score': 3.667},\n",
       " 'BCH': {'7_period_score': 2.0,\n",
       "  '28_period_score': 3.0,\n",
       "  '91_period_score': 3.0,\n",
       "  'mean_score': 2.667},\n",
       " 'SOL': {'7_period_score': 4.0,\n",
       "  '28_period_score': 4.0,\n",
       "  '91_period_score': 4.0,\n",
       "  'mean_score': 4.0}}"
      ]
     },
     "execution_count": 69,
     "metadata": {},
     "output_type": "execute_result"
    }
   ],
   "source": [
    "score_dict"
   ]
  }
 ],
 "metadata": {
  "kernelspec": {
   "display_name": "factor",
   "language": "python",
   "name": "python3"
  },
  "language_info": {
   "codemirror_mode": {
    "name": "ipython",
    "version": 3
   },
   "file_extension": ".py",
   "mimetype": "text/x-python",
   "name": "python",
   "nbconvert_exporter": "python",
   "pygments_lexer": "ipython3",
   "version": "3.10.13"
  },
  "orig_nbformat": 4,
  "vscode": {
   "interpreter": {
    "hash": "f51e0da3e3d90447dcadba55e0cb4a38546033c4e076c9d4b80673409e62cb43"
   }
  }
 },
 "nbformat": 4,
 "nbformat_minor": 2
}
