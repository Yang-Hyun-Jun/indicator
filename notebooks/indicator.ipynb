{
 "cells": [
  {
   "cell_type": "code",
   "execution_count": 1,
   "metadata": {},
   "outputs": [
    {
     "name": "stdout",
     "output_type": "stream",
     "text": [
      "/home/hyunjun/workspace/technical_indicator\n"
     ]
    }
   ],
   "source": [
    "cd .."
   ]
  },
  {
   "cell_type": "code",
   "execution_count": 2,
   "metadata": {},
   "outputs": [],
   "source": [
    "import talib as ta\n",
    "import pandas as pd\n",
    "\n",
    "from coinmarketcap_dataloader import CoinMarketCap\n",
    "from coinmarketcap_dataloader import CMC_API_KEY"
   ]
  },
  {
   "attachments": {},
   "cell_type": "markdown",
   "metadata": {},
   "source": [
    "### Indicator Module\n",
    "\n",
    "- for loop을 계속 돌리면 api error가 발생해서 time sleep을 넣음 <br>\n",
    "- 전일까지의 historical data 일부는 멤버변수에 할당해놓고 사용하는 형태로 구현 <br>\n",
    "- 각 지표의 기간별 값을 ticker key를 갖는 dict으로 리턴: value_dict <br>\n",
    "- 각 지표의 기간별 스코어를 ticker key를 갖는 dict으로 리턴: score_dict <br> "
   ]
  },
  {
   "cell_type": "code",
   "execution_count": 16,
   "metadata": {},
   "outputs": [],
   "source": [
    "import time \n",
    "import numpy as np\n",
    "import talib as ta\n",
    "import multiprocessing\n",
    "\n",
    "from tqdm import tqdm\n",
    "from typing import Tuple\n",
    "from datetime import datetime\n",
    "from datetime import timedelta\n",
    "\n",
    "\n",
    "class Indicator(CoinMarketCap):\n",
    "    PERIODS = [\n",
    "        7, 28, 91]\n",
    "\n",
    "    SCORE_NAMES = [\n",
    "        '7_period_score', \n",
    "        '28_period_score', \n",
    "        '91_period_score', \n",
    "        'mean_score'\n",
    "        ]\n",
    "\n",
    "    INDICATOR_NAMES = [\n",
    "        'RSI', 'MACD', \n",
    "        'BBANDS', 'STOCH', \n",
    "        'OBV']\n",
    "\n",
    "\n",
    "    def __init__(self, API_KEY):\n",
    "        super().__init__(API_KEY)\n",
    "\n",
    "        self.tickers:list = None\n",
    "        self.historical_data_dict:dict = {}\n",
    "\n",
    "        self.update_tickers()\n",
    "\n",
    "\n",
    "    def get_total_score(self, tickers:list) -> Tuple[dict, dict]:\n",
    "        \"\"\"\n",
    "        입력 ticker들에 대한 total score list를 리턴\n",
    "\n",
    "        [value_dict]\n",
    "        {'BTC': {'RSI': [53., 65., 62.],\n",
    "                'MACD': [1317., 3107., 3222.],\n",
    "                'BBANDS': [22., 88., 95.],\n",
    "                'STOCH': [-2., 1., 1.],\n",
    "                'OBV': [71681935600., 71681935600., 71681935600.]},\n",
    "\n",
    "        'USDT': {'RSI': [51., 50., 50.],\n",
    "                'MACD': [-5.6, 1.5, -4.],\n",
    "                'BBANDS': [58., 53., 49.],\n",
    "                'STOCH': [0., 0., 0.],\n",
    "                'OBV': [-610460727736., -610460727736., -610460727736.]},\n",
    "\n",
    "        'ETH': {'RSI': [50., 60., 57.],\n",
    "                'MACD': [61., 138., 85.3873846637475],\n",
    "                'BBANDS': [23., 85., 91.],\n",
    "                'STOCH': [-1., 0., 1.],\n",
    "                'OBV': [102378389016.81, 102378389016.81, 102378389016.81]}}\n",
    "        \n",
    "\n",
    "        [score_dict]\n",
    "        {'BTC': {'7_period_score': 1.0,\n",
    "                '28_period_score': 4.0,\n",
    "                '91_period_score': 4.0,\n",
    "                'mean_score': 3.0},\n",
    "\n",
    "        'USDT': {'7_period_score': -2.0,\n",
    "                '28_period_score': 0.0,\n",
    "                '91_period_score': -2.0,\n",
    "                'mean_score': -1.333},\n",
    "\n",
    "        'ETH': {'7_period_score': 1.0,\n",
    "                '28_period_score': 3.0,\n",
    "                '91_period_score': 4.0,\n",
    "                'mean_score': 2.667}}\n",
    "        \"\"\"\n",
    "\n",
    "    \n",
    "        tickers = set(tickers).intersection(\n",
    "            set(self.historical_data_dict.keys())\n",
    "        )\n",
    "\n",
    "        indicator_func = [\n",
    "            self.get_RSI,\n",
    "            self.get_MACD,\n",
    "            self.get_STOCH,\n",
    "            self.get_BBANDS,\n",
    "            self.get_OBV,\n",
    "        ]\n",
    "\n",
    "        scoring_func = [\n",
    "            self.get_RSI_score,\n",
    "            self.get_MACD_score,\n",
    "            self.get_STOCH_score,\n",
    "            self.get_BBANDS_score,\n",
    "            self.get_OBV_score,\n",
    "        ]\n",
    "\n",
    "        def parrallel(tickers):\n",
    "            with multiprocessing.Pool() as pool:\n",
    "                value_array = list(pool.map(self.get_ALL, tickers))\n",
    "            return value_array\n",
    "\n",
    "        # 모든 ticker의 지표별, 기간별 indicator 값에 대한 어레이\n",
    "        # value_array = [ self.get_ALL(ticker) for ticker in tqdm(tickers) ]\n",
    "        value_array = parrallel(tickers)\n",
    "\n",
    "        # ticker : {indicator: [values1, values2, ...]}\n",
    "        value_dict = {ticker: {name:value for name, value in zip(self.INDICATOR_NAMES, values)} \\\n",
    "            for ticker, values in zip(tickers, value_array)}\n",
    "\n",
    "        # 모든 ticker의 지표별, 기간별 score 값에 대한 어레이\n",
    "        score_array = np.array([ [func(values) for func, values in zip(scoring_func, value_dict[ticker].values())] \\\n",
    "            for ticker in tickers ])\n",
    "\n",
    "        # 모든 지표에 대해서 합하여 기간별 score 산출\n",
    "        score_array_sum = np.sum(score_array, axis=1)\n",
    "        # 기간별 score와 기간별 score의 평균을 묶어서 최종 score 배열로 \n",
    "        score_array_total = np.concatenate([score_array_sum, np.mean(score_array_sum, axis=-1)[:,np.newaxis]], axis=1)\n",
    "        score_array_total = np.round(score_array_total, decimals=3)\n",
    "\n",
    "        # ticker: {period: score}\n",
    "        score_dict = {ticker: {name:score for name, score in zip(self.SCORE_NAMES, score_list)} \\\n",
    "            for ticker, score_list in zip(tickers, score_array_total)}\n",
    "    \n",
    "        return value_dict, score_dict\n",
    "\n",
    "\n",
    "    def get_ALL(self, ticker:str) -> list:\n",
    "        \"\"\"\n",
    "        모든 지표값을 리턴\n",
    "        \"\"\"\n",
    "        ohlcv = self._get_price_to_now(ticker, types=['open', 'high', 'low', 'close', 'volume'])\n",
    "        all_indicators = [self.get_RSI, self.get_MACD, self.get_BBANDS, self.get_STOCH, self.get_OBV]\n",
    "        return [func(ticker, ohlcv) for func in all_indicators]\n",
    "\n",
    "\n",
    "    def get_RSI(self, ticker:str, ohlcv:pd.DataFrame = None) -> list:\n",
    "        \"\"\"\n",
    "        Period별 RSI\n",
    "        \"\"\"\n",
    "        data = self._get_price_to_now(ticker, ['close']) if ohlcv is None else ohlcv \n",
    "        return [ta.RSI(data['close'].to_numpy(), n)[-1] for n in self.PERIODS]\n",
    "\n",
    "    \n",
    "    def get_MACD(self, ticker:str, ohlcv:pd.DataFrame = None) -> list:\n",
    "        \"\"\"\n",
    "        Period별 MACD \n",
    "        \"\"\"\n",
    "        data = self._get_price_to_now(ticker, ['close']) if ohlcv is None else ohlcv \n",
    "        return [ta.MACD(data['close'].to_numpy(), fastperiod=n, slowperiod=int((26/12)*n), signalperiod=int((9/12)*n))[0][-1] for n in self.PERIODS]\n",
    "\n",
    "\n",
    "    def get_BBANDS(self, ticker:str, ohlcv:pd.DataFrame = None) -> list:\n",
    "        \"\"\"\n",
    "        Period별 BBANDS \n",
    "        \"\"\"\n",
    "        data = self._get_price_to_now(ticker, ['close']) if ohlcv is None else ohlcv \n",
    "\n",
    "        return [(data['close'][-1] - ta.SMA(data['close'].to_numpy(), timeperiod=n)[-1]) / \\\n",
    "         ta.STDDEV(data['close'].to_numpy(), timeperiod=n)[-1] for n in self.PERIODS]\n",
    "\n",
    "    \n",
    "    def get_STOCH(self, ticker:str, ohlcv:pd.DataFrame = None) -> list:\n",
    "        \"\"\"\n",
    "        Period별 STOCH\n",
    "        \"\"\"\n",
    "        data = self._get_price_to_now(ticker, ['high', 'low', 'close']) if ohlcv is None else ohlcv \n",
    "        \n",
    "        return [ta.STOCH(data['high'].to_numpy(), data['low'].to_numpy(), data['close'].to_numpy(), \n",
    "                         fastk_period=n, slowk_period=int((3/14)*n), slowd_period=int((3/14)*n))[0][-1] for n in self.PERIODS]\n",
    "    \n",
    "\n",
    "    def get_OBV(self, ticker:str, ohlcv:pd.DataFrame = None) -> list:\n",
    "        \"\"\"\n",
    "        Period별 OBV\n",
    "        \"\"\"\n",
    "        data = self._get_price_to_now(ticker, ['close', 'volume']) if ohlcv is None else ohlcv \n",
    "\n",
    "        return [ta.OBV(data['close'].to_numpy(), data['volume'].to_numpy())[-1] for n in self.PERIODS]\n",
    "\n",
    "\n",
    "    def get_RSI_score(self, rsi_values:list):\n",
    "        \"\"\"\n",
    "        RSI 지표 스코어 기준\n",
    "        \"\"\"\n",
    "        def score_func(rsi):\n",
    "            if rsi < 30: \n",
    "                return -1\n",
    "            elif rsi > 70:\n",
    "                return 1\n",
    "            else: \n",
    "                return 0\n",
    "            \n",
    "        return list(map(score_func, rsi_values))\n",
    "    \n",
    "\n",
    "    def get_MACD_score(self, macd_values:list):\n",
    "        \"\"\" \n",
    "        MACD 지표 스코어 기준\n",
    "        \"\"\"\n",
    "        def score_func(macd):\n",
    "            if macd > 0: \n",
    "                return 1\n",
    "            else:\n",
    "                return -1\n",
    "            \n",
    "        return list(map(score_func, macd_values))\n",
    "        \n",
    "\n",
    "    def get_BBANDS_score(self, distance_values:list):\n",
    "        \"\"\"\n",
    "        BBANDS 지표 스코어 기준\n",
    "        \"\"\"\n",
    "        def score_func(distance):\n",
    "            if distance < -1:\n",
    "                return -1\n",
    "            elif distance > 1:\n",
    "                return 1\n",
    "            else:\n",
    "                return 0\n",
    "        \n",
    "        return list(map(score_func, distance_values))\n",
    "\n",
    "\n",
    "    def get_STOCH_score(self, slowk_values:list):\n",
    "        \"\"\"\n",
    "        STOCH 지표 스코어 기준\n",
    "        \"\"\"\n",
    "        def score_func(slowk):\n",
    "            if slowk < 20:\n",
    "                return -1\n",
    "            elif slowk > 80:\n",
    "                return 1\n",
    "            else:\n",
    "                return 0\n",
    "            \n",
    "        return list(map(score_func, slowk_values))\n",
    "    \n",
    "\n",
    "    def get_OBV_score(self, obv_values:list):\n",
    "        \"\"\" \n",
    "        OBV 지표 스코어 기준\n",
    "        \"\"\"\n",
    "        def score_func(obv):\n",
    "            if obv > 0:\n",
    "                return 1\n",
    "            else:\n",
    "                return -1\n",
    "            \n",
    "        return list(map(score_func, obv_values))\n",
    "\n",
    "\n",
    "    def update_tickers(self):\n",
    "        \"\"\"\n",
    "        Ticker List를 멤버변수 self.tickers에 저장\n",
    "        \"\"\"\n",
    "        ticker_infos = self.get_all_listings()\n",
    "        tickers = [info['symbol'] for info in ticker_infos]\n",
    "        self.tickers = list( map(lambda x:x.upper(), tickers) )\n",
    "\n",
    "\n",
    "    def update_historical_data_frame(self, tickers:list=None):\n",
    "        \"\"\"\n",
    "        Ticker 과거 데이터를 멤버변수 self.historical_data_frame에 저장\n",
    "        \"\"\"\n",
    "\n",
    "        tickers = self.tickers if tickers is None else tickers\n",
    "\n",
    "        for ticker in tqdm(tickers):\n",
    "            \n",
    "            try: \n",
    "                # time.sleep(0.5)\n",
    "                self.historical_data_dict.update({ticker:self.get_ohlcv_n(ticker)})\n",
    "            except:\n",
    "                try:\n",
    "                    time.sleep(3.0)\n",
    "                    self.historical_data_dict.update({ticker:self.get_ohlcv_n(ticker)})\n",
    "                except:\n",
    "                    continue\n",
    "\n",
    "\n",
    "    def get_ohlcv_n(self, ticker:str, n=300) -> pd.DataFrame:\n",
    "        \"\"\" \n",
    "        현재 시점으로부터 과거 n개의 ohlcv 데이터를 리턴\n",
    "        \"\"\"\n",
    "\n",
    "        date_ago = datetime.now() - timedelta(days = n + 1)\n",
    "        historical_info = self.get_ohlcv_historical(ticker, start=date_ago)\n",
    "        dataframe = pd.DataFrame([info['quote']['USD'] for info in historical_info])\n",
    "        dataframe = dataframe.set_index('timestamp', drop=True)\n",
    "        return dataframe\n",
    "    \n",
    "\n",
    "    def _get_price_to_now(self, ticker:str, types:list = ['close']) -> pd.DataFrame:\n",
    "        \"\"\"\n",
    "        과거 데이터 + 현재 시점까지의 가격 및 거래량 데이터를 리턴\n",
    "        \"\"\"\n",
    "\n",
    "        # 전일까지의 price dataframe\n",
    "        historical_df = self.historical_data_dict[ticker]\n",
    "    \n",
    "        try:\n",
    "            # 현재시점의 price dataframe\n",
    "            realtime_df = self.get_ohlcv_realtime([ticker])\n",
    "            realtime_df = pd.DataFrame([realtime_df[ticker][0]['quote']['USD']])\n",
    "            realtime_df.set_index('last_updated', inplace=True)\n",
    "            # price series  \n",
    "            price = pd.concat([historical_df[types], realtime_df[types]])\n",
    "        \n",
    "        except:\n",
    "            price = historical_df[types] \n",
    "\n",
    "        return price\n",
    "    \n",
    "\n",
    "    def _get_normalize(self, array:np.array, upper:int=5, lower:int=-5):\n",
    "        \"\"\"\n",
    "        Min-Max normalize으로 upper, lower bounding\n",
    "        \"\"\"\n",
    "        k = upper - lower\n",
    "        d = -lower\n",
    "\n",
    "        new_array = array.copy()\n",
    "        max_score = np.max(new_array)\n",
    "        min_score = np.min(new_array)\n",
    "\n",
    "        if len(array) == 1:\n",
    "            return new_array\n",
    "        \n",
    "        if max_score == min_score:\n",
    "            return new_array\n",
    "    \n",
    "        new_array = k * (new_array - min_score) / (max_score - min_score) - d\n",
    "        return new_array"
   ]
  },
  {
   "cell_type": "code",
   "execution_count": 17,
   "metadata": {},
   "outputs": [],
   "source": [
    "indicator = Indicator(CMC_API_KEY)"
   ]
  },
  {
   "cell_type": "code",
   "execution_count": 18,
   "metadata": {},
   "outputs": [],
   "source": [
    "tickers = indicator.tickers[:50]"
   ]
  },
  {
   "attachments": {},
   "cell_type": "markdown",
   "metadata": {},
   "source": [
    "#### 전일까지의 과거 데이터 ticker 별로 멤버변수에 저장"
   ]
  },
  {
   "cell_type": "code",
   "execution_count": 19,
   "metadata": {},
   "outputs": [
    {
     "name": "stderr",
     "output_type": "stream",
     "text": [
      "100%|██████████| 50/50 [01:20<00:00,  1.61s/it]\n"
     ]
    }
   ],
   "source": [
    "indicator.update_historical_data_frame(tickers)"
   ]
  },
  {
   "cell_type": "code",
   "execution_count": 20,
   "metadata": {},
   "outputs": [
    {
     "data": {
      "text/plain": [
       "50"
      ]
     },
     "execution_count": 20,
     "metadata": {},
     "output_type": "execute_result"
    }
   ],
   "source": [
    "len(indicator.historical_data_dict)"
   ]
  },
  {
   "attachments": {},
   "cell_type": "markdown",
   "metadata": {},
   "source": [
    "#### 기간별 지표값 가져오기"
   ]
  },
  {
   "cell_type": "code",
   "execution_count": 75,
   "metadata": {},
   "outputs": [
    {
     "data": {
      "text/plain": [
       "[-1.4112747020276266, 0.9040546153101282, 1.70006423128394]"
      ]
     },
     "execution_count": 75,
     "metadata": {},
     "output_type": "execute_result"
    }
   ],
   "source": [
    "indicator.get_BBANDS('ETH')"
   ]
  },
  {
   "cell_type": "code",
   "execution_count": 50,
   "metadata": {},
   "outputs": [
    {
     "data": {
      "text/plain": [
       "[50.60142852780077, 60.79751534106993, 57.37798574125299]"
      ]
     },
     "execution_count": 50,
     "metadata": {},
     "output_type": "execute_result"
    }
   ],
   "source": [
    "indicator.get_RSI('ETH')"
   ]
  },
  {
   "cell_type": "code",
   "execution_count": 51,
   "metadata": {},
   "outputs": [
    {
     "data": {
      "text/plain": [
       "[62.021698708510485, 138.34168173938133, 85.4144351824009]"
      ]
     },
     "execution_count": 51,
     "metadata": {},
     "output_type": "execute_result"
    }
   ],
   "source": [
    "indicator.get_MACD('ETH')"
   ]
  },
  {
   "cell_type": "code",
   "execution_count": 52,
   "metadata": {},
   "outputs": [
    {
     "data": {
      "text/plain": [
       "[50.60142852780077, 60.79751534106993, 57.37798574125299]"
      ]
     },
     "execution_count": 52,
     "metadata": {},
     "output_type": "execute_result"
    }
   ],
   "source": [
    "indicator.get_RSI('ETH')"
   ]
  },
  {
   "cell_type": "code",
   "execution_count": 53,
   "metadata": {},
   "outputs": [
    {
     "data": {
      "text/plain": [
       "[24.963555076605946, 85.9971588008767, 91.16082106847753]"
      ]
     },
     "execution_count": 53,
     "metadata": {},
     "output_type": "execute_result"
    }
   ],
   "source": [
    "indicator.get_STOCH('ETH')"
   ]
  },
  {
   "cell_type": "code",
   "execution_count": 54,
   "metadata": {},
   "outputs": [
    {
     "data": {
      "text/plain": [
       "[102331450380.84999, 102331450380.84999, 102331450380.84999]"
      ]
     },
     "execution_count": 54,
     "metadata": {},
     "output_type": "execute_result"
    }
   ],
   "source": [
    "indicator.get_OBV('ETH')"
   ]
  },
  {
   "attachments": {},
   "cell_type": "markdown",
   "metadata": {},
   "source": [
    "### 기간별 score 가져오기"
   ]
  },
  {
   "cell_type": "code",
   "execution_count": 62,
   "metadata": {},
   "outputs": [
    {
     "data": {
      "text/plain": [
       "[0, 0, 0]"
      ]
     },
     "execution_count": 62,
     "metadata": {},
     "output_type": "execute_result"
    }
   ],
   "source": [
    "indicator.get_RSI_score(indicator.get_RSI('ETH'))"
   ]
  },
  {
   "cell_type": "code",
   "execution_count": 63,
   "metadata": {},
   "outputs": [
    {
     "data": {
      "text/plain": [
       "[1, 1, 1]"
      ]
     },
     "execution_count": 63,
     "metadata": {},
     "output_type": "execute_result"
    }
   ],
   "source": [
    "indicator.get_MACD_score(indicator.get_MACD('ETH'))"
   ]
  },
  {
   "cell_type": "code",
   "execution_count": 64,
   "metadata": {},
   "outputs": [
    {
     "data": {
      "text/plain": [
       "[0, 1, 1]"
      ]
     },
     "execution_count": 64,
     "metadata": {},
     "output_type": "execute_result"
    }
   ],
   "source": [
    "indicator.get_STOCH_score(indicator.get_STOCH('ETH'))"
   ]
  },
  {
   "cell_type": "code",
   "execution_count": 65,
   "metadata": {},
   "outputs": [
    {
     "data": {
      "text/plain": [
       "[-1, 0, 1]"
      ]
     },
     "execution_count": 65,
     "metadata": {},
     "output_type": "execute_result"
    }
   ],
   "source": [
    "indicator.get_BBANDS_score(indicator.get_BBANDS('ETH'))"
   ]
  },
  {
   "cell_type": "code",
   "execution_count": 66,
   "metadata": {},
   "outputs": [
    {
     "data": {
      "text/plain": [
       "[1, 1, 1]"
      ]
     },
     "execution_count": 66,
     "metadata": {},
     "output_type": "execute_result"
    }
   ],
   "source": [
    "indicator.get_OBV_score(indicator.get_OBV('ETH'))"
   ]
  },
  {
   "attachments": {},
   "cell_type": "markdown",
   "metadata": {},
   "source": [
    "#### ticker 여러개를 받아서 지표값, 스코어 받기"
   ]
  },
  {
   "cell_type": "code",
   "execution_count": 21,
   "metadata": {},
   "outputs": [],
   "source": [
    "value_dict, score_dict = indicator.get_total_score(tickers)"
   ]
  },
  {
   "cell_type": "code",
   "execution_count": null,
   "metadata": {},
   "outputs": [],
   "source": [
    "score_dict"
   ]
  }
 ],
 "metadata": {
  "kernelspec": {
   "display_name": "factor",
   "language": "python",
   "name": "python3"
  },
  "language_info": {
   "codemirror_mode": {
    "name": "ipython",
    "version": 3
   },
   "file_extension": ".py",
   "mimetype": "text/x-python",
   "name": "python",
   "nbconvert_exporter": "python",
   "pygments_lexer": "ipython3",
   "version": "3.10.13"
  },
  "orig_nbformat": 4,
  "vscode": {
   "interpreter": {
    "hash": "f51e0da3e3d90447dcadba55e0cb4a38546033c4e076c9d4b80673409e62cb43"
   }
  }
 },
 "nbformat": 4,
 "nbformat_minor": 2
}
